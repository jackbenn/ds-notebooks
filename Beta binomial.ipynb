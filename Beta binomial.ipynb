{
 "cells": [
  {
   "cell_type": "markdown",
   "metadata": {},
   "source": [
    "# The beta-binomial distribution\n",
    "\n",
    "Question: can the beta-binomial distribution be seen as an order statistic of a discrete uniform distribution?"
   ]
  },
  {
   "cell_type": "code",
   "execution_count": null,
   "metadata": {
    "collapsed": true
   },
   "outputs": [],
   "source": [
    "from scipy import stats\n",
    "import matplotlib.pyplot as plt\n",
    "import numpy as np\n",
    "import scipy\n",
    "%matplotlib inline"
   ]
  },
  {
   "cell_type": "markdown",
   "metadata": {},
   "source": [
    "Sadly beta binomial is on in scipy. This might be something to contribute to in the future.\n",
    "\n",
    "So: choose `n_rolls` numbers between 0 and `n-sides-1` and find the smallest, next smallest, etc. Do this many `n_trials` times and look at the distribution."
   ]
  },
  {
   "cell_type": "code",
   "execution_count": null,
   "metadata": {
    "collapsed": true
   },
   "outputs": [],
   "source": [
    "def get_ordered_data(n_trials, n_sides, n_rolls):\n",
    "    results = stats.randint(0, n_sides).rvs((n_trials, n_rolls))\n",
    "    results.sort(axis=1)\n",
    "    return results"
   ]
  },
  {
   "cell_type": "code",
   "execution_count": null,
   "metadata": {},
   "outputs": [],
   "source": [
    "def simulate_bb_dist(ax, n_trials, n_sides, n_rolls):\n",
    "    results = get_ordered_data(n_trials=n_trials, n_sides=n_sides, n_rolls=n_rolls)\n",
    "    side_array = np.array(range(n_sides))\n",
    "    for i_roll in range(n_rolls):\n",
    "        ax.plot(side_array, (results[:, [i_roll]] == side_array).mean(axis=0), '.-', label=i_roll)\n",
    "    ax.legend()"
   ]
  },
  {
   "cell_type": "code",
   "execution_count": null,
   "metadata": {
    "collapsed": true
   },
   "outputs": [],
   "source": [
    "n_sides = 10\n",
    "n_rolls = 8\n",
    "n_trials = 100000"
   ]
  },
  {
   "cell_type": "code",
   "execution_count": null,
   "metadata": {},
   "outputs": [],
   "source": [
    "fig, ax = plt.subplots(figsize=(12, 5))\n",
    "simulate_bb_dist(ax, n_trials=n_trials, n_sides=n_sides, n_rolls=n_rolls)"
   ]
  },
  {
   "cell_type": "markdown",
   "metadata": {},
   "source": [
    "Which at least looks like a beta-binomial distribution."
   ]
  },
  {
   "cell_type": "code",
   "execution_count": null,
   "metadata": {},
   "outputs": [],
   "source": [
    "def bb_pmt(k, n, a, b):\n",
    "    return (scipy.special.comb(n, k) *\n",
    "            scipy.special.beta(k+a, n-k+b) /\n",
    "            scipy.special.beta(a, b))"
   ]
  },
  {
   "cell_type": "code",
   "execution_count": null,
   "metadata": {},
   "outputs": [],
   "source": [
    "[f'{x:.4f}' for x in bb_pmt(ks, n_sides, 5, n_sides-5)]"
   ]
  },
  {
   "cell_type": "code",
   "execution_count": null,
   "metadata": {},
   "outputs": [],
   "source": [
    "scipy.special.beta(1,4)"
   ]
  },
  {
   "cell_type": "code",
   "execution_count": null,
   "metadata": {},
   "outputs": [],
   "source": [
    "fig, axs = plt.subplots(2, 1, figsize=(12, 6))\n",
    "ks = np.arange(n_sides+1)\n",
    "for a in range(1, n_rolls):\n",
    "    ks = np.arange(n_sides)\n",
    "    axs[0].plot(ks, bb_pmt(ks, n_sides-1, a, n_rolls-a), '.-', label=f\"a={a}\")\n",
    "axs[0].legend()\n",
    "axs[0].set_title(\"Beta Binomial Distribution\")\n",
    "simulate_bb_dist(axs[1], n_trials=n_trials, n_sides=n_sides, n_rolls=n_rolls-1)\n",
    "axs[1].set_title(\"Order Statistic of Uniform Distribtion\")\n",
    "fig.tight_layout()"
   ]
  },
  {
   "cell_type": "markdown",
   "metadata": {},
   "source": [
    "These almost look the same, but aren't quite.\n",
    "\n",
    "TODO:\n",
    "\n",
    "Verify mathematically, and see what distribution is given by the order statistic of the uniform distribution."
   ]
  },
  {
   "cell_type": "code",
   "execution_count": null,
   "metadata": {
    "collapsed": true
   },
   "outputs": [],
   "source": []
  },
  {
   "cell_type": "code",
   "execution_count": null,
   "metadata": {
    "collapsed": true
   },
   "outputs": [],
   "source": []
  }
 ],
 "metadata": {
  "kernelspec": {
   "display_name": "Python 3",
   "language": "python",
   "name": "python3"
  },
  "language_info": {
   "codemirror_mode": {
    "name": "ipython",
    "version": 3
   },
   "file_extension": ".py",
   "mimetype": "text/x-python",
   "name": "python",
   "nbconvert_exporter": "python",
   "pygments_lexer": "ipython3",
   "version": "3.6.6"
  }
 },
 "nbformat": 4,
 "nbformat_minor": 2
}
