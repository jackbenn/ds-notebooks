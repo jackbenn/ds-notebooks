{
 "cells": [
  {
   "cell_type": "markdown",
   "metadata": {},
   "source": [
    "\n",
    "### Bias-Variance Trade-off and Decomposition"
   ]
  },
  {
   "cell_type": "markdown",
   "metadata": {},
   "source": [
    "Assume we have some data, with true labels $y$ generated from a function $f(x) + \\epsilon$, where $epsilon$ is a random variable with a mean of $0$ and a variance of $\\sigma$.\n",
    "\n",
    "We estimate the $f(x)$ as $\\hat f(x)$.\n",
    "\n",
    "The bias-variance decomposition says that for any unseen $x$,\n",
    "\n",
    "$$E\\left[(y - \\hat f (x))^2\\right] =\n",
    "  \\left(Bias[\\hat f (x)] \\right)^2 +\n",
    "  Var[\\hat f (x)] + \n",
    "  \\sigma^2$$\n",
    "  \n",
    "where\n",
    "\n",
    "$$Bias[\\hat f(x)] = E[\\hat f(x)] - f(x)$$\n",
    "\n",
    "and\n",
    "\n",
    "$$Var[\\hat f(x)] = E[\\hat f(x)^2] - E[\\hat f(x)]^2 $$\n",
    "\n"
   ]
  },
  {
   "cell_type": "markdown",
   "metadata": {},
   "source": [
    "Let's try the derivation.\n",
    "\n",
    "$$\n",
    "\\begin{align}\n",
    "E\\left[(y - \\hat f(x))^2\\right] & = E\\left[(f(x) + \\epsilon -\n",
    "     \\hat f(x) +\n",
    "     E[\\hat f(x)] - E[\\hat f(x)\n",
    "     )^2\\right] \\\\\n",
    "     & = \n",
    "\\end{align}$$"
   ]
  },
  {
   "cell_type": "code",
   "execution_count": null,
   "metadata": {},
   "outputs": [],
   "source": []
  },
  {
   "cell_type": "code",
   "execution_count": null,
   "metadata": {},
   "outputs": [],
   "source": []
  },
  {
   "cell_type": "markdown",
   "metadata": {},
   "source": [
    "Let's try to show that.\n",
    "\n",
    "In the simplest case, $f(x) = 0$, and $\\epsilon$ is normally distributed. We'll try to estimate it as a constant function."
   ]
  },
  {
   "cell_type": "code",
   "execution_count": 2,
   "metadata": {},
   "outputs": [],
   "source": [
    "import numpy as np\n",
    "from scipy import stats\n",
    "import matplotlib.pyplot as plt\n",
    "%matplotlib inline"
   ]
  },
  {
   "cell_type": "code",
   "execution_count": 16,
   "metadata": {},
   "outputs": [],
   "source": [
    "sample_size = 10\n",
    "sigma = 5\n",
    "epsilon = stats.norm(0, sigma)\n",
    "\n",
    "def f(size=1):\n",
    "    return np.zeros((size,))"
   ]
  },
  {
   "cell_type": "code",
   "execution_count": 24,
   "metadata": {},
   "outputs": [
    {
     "name": "stdout",
     "output_type": "stream",
     "text": [
      "error = 27.57562107712117 bias^2 = 6.306279634043667e-07 variance = 2.5001724587591063 sigma^2 = 25 sum=27.50017308938707\n"
     ]
    }
   ],
   "source": [
    "n_trials = 100000\n",
    "fhats = []\n",
    "ys = []\n",
    "for t in range(n_trials):\n",
    "    sample =  f(size=sample_size) + epsilon.rvs(sample_size)\n",
    "    fhat = sample.mean()\n",
    "    fhats.append(fhat)\n",
    "    ys.append((f(1) + epsilon.rvs(1))[0])\n",
    "\n",
    "    \n",
    "fhats = np.array(fhats)\n",
    "ys = np.array(ys)\n",
    "\n",
    "bias2 = ((fhats).mean() - 0)**2\n",
    "variance = (fhats**2).mean() - (fhats).mean()**2\n",
    "error = ((ys-fhats)**2).mean()\n",
    "print(f\"error = {error} bias^2 = {bias2} variance = {variance} sigma^2 = {sigma**2} sum={bias2+variance+sigma**2}\")"
   ]
  },
  {
   "cell_type": "markdown",
   "metadata": {},
   "source": [
    "Let's get a little less trivial, a step function."
   ]
  },
  {
   "cell_type": "code",
   "execution_count": 27,
   "metadata": {},
   "outputs": [],
   "source": [
    "sample_size = 10\n",
    "sigma = 5\n",
    "epsilon = stats.norm(0, sigma)\n",
    "x_dist = stats.uniform(-1, 2)\n",
    "\n",
    "def f(x):\n",
    "    return np.where(x > 0, 1, 0)\n"
   ]
  },
  {
   "cell_type": "code",
   "execution_count": 25,
   "metadata": {},
   "outputs": [
    {
     "data": {
      "text/plain": [
       "array([0, 1, 0])"
      ]
     },
     "execution_count": 25,
     "metadata": {},
     "output_type": "execute_result"
    }
   ],
   "source": [
    "n_trials = 10000\n",
    "fhats = []\n",
    "ys = []\n",
    "for t in range(n_trials):\n",
    "    sample =  f(size=sample_size) + epsilon.rvs(sample_size)\n",
    "    fhat = sample.mean()\n",
    "    fhats.append(fhat)\n",
    "    ys.append((f(1) + epsilon.rvs(1))[0])\n",
    "\n",
    "    \n",
    "fhats = np.array(fhats)\n",
    "ys = np.array(ys)\n",
    "\n",
    "bias2 = ((fhats).mean() - 0)**2\n",
    "variance = (fhats**2).mean() - (fhats).mean()**2\n",
    "error = ((ys-fhats)**2).mean()\n",
    "print(f\"error = {error} bias^2 = {bias2} variance = {variance} sigma^2 = {sigma**2} sum={bias2+variance+sigma**2}\")"
   ]
  },
  {
   "cell_type": "code",
   "execution_count": null,
   "metadata": {},
   "outputs": [],
   "source": []
  }
 ],
 "metadata": {
  "kernelspec": {
   "display_name": "Python 3",
   "language": "python",
   "name": "python3"
  },
  "language_info": {
   "codemirror_mode": {
    "name": "ipython",
    "version": 3
   },
   "file_extension": ".py",
   "mimetype": "text/x-python",
   "name": "python",
   "nbconvert_exporter": "python",
   "pygments_lexer": "ipython3",
   "version": "3.7.0"
  }
 },
 "nbformat": 4,
 "nbformat_minor": 2
}
