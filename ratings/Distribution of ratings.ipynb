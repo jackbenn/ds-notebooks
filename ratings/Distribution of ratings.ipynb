{
 "cells": [
  {
   "cell_type": "markdown",
   "id": "monthly-newcastle",
   "metadata": {},
   "source": [
    "# Modeling rating distributions\n",
    "\n",
    "There are a number of bounded discrete distributions that might be used to measure ratings (e.g., hypergeometric, beta binomial) but none do a really great job of modeling distributions. It might be better to create a family one based on empirical data."
   ]
  },
  {
   "cell_type": "markdown",
   "id": "attended-junior",
   "metadata": {},
   "source": [
    "Look at amazon or other data to understand the distribution of 1-5 star rating, and parameterized that with 1, 2, and 3 degrees of freedom.\n",
    "\n",
    "Plan:\n",
    " 1. download a whole bunch of data, of a whole bunch of products, for each product, a bunch of 1-5 ratings.\n",
    " 2. Fit to parameterized distribution of values, allowing 1-3 parameters to be free\n",
    "\n",
    "Is the model a straight line/plane/hyperplane? (e.g., a line on a ternary graph) Or is it some other function?"
   ]
  },
  {
   "cell_type": "code",
   "execution_count": null,
   "id": "agreed-helping",
   "metadata": {},
   "outputs": [],
   "source": []
  }
 ],
 "metadata": {
  "kernelspec": {
   "display_name": "Python 3",
   "language": "python",
   "name": "python3"
  },
  "language_info": {
   "codemirror_mode": {
    "name": "ipython",
    "version": 3
   },
   "file_extension": ".py",
   "mimetype": "text/x-python",
   "name": "python",
   "nbconvert_exporter": "python",
   "pygments_lexer": "ipython3",
   "version": "3.7.7"
  }
 },
 "nbformat": 4,
 "nbformat_minor": 5
}
