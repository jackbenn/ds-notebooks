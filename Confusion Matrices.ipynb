{
 "cells": [
  {
   "cell_type": "markdown",
   "metadata": {},
   "source": [
    "# Confusion Matrices\n",
    "\n",
    "An exploration of displaying confusion matrices by the size of a shape in each space.\n",
    "\n",
    "TODO: try circles\n",
    "   Use more real examples."
   ]
  },
  {
   "cell_type": "markdown",
   "metadata": {},
   "source": [
    "First, lets build a crappy model to visualize something."
   ]
  },
  {
   "cell_type": "code",
   "execution_count": 1,
   "metadata": {},
   "outputs": [],
   "source": [
    "from sklearn.datasets import load_digits\n",
    "from sklearn.linear_model import LogisticRegression\n",
    "from sklearn.tree import DecisionTreeClassifier\n",
    "from sklearn.neighbors import KNeighborsClassifier\n",
    "from sklearn.model_selection import train_test_split\n",
    "import matplotlib.pyplot as plt\n",
    "import matplotlib\n",
    "import numpy as np\n",
    "import pandas as pd\n",
    "%matplotlib inline"
   ]
  },
  {
   "cell_type": "code",
   "execution_count": 2,
   "metadata": {
    "collapsed": true
   },
   "outputs": [],
   "source": [
    "data = load_digits()\n",
    "X = data.data\n",
    "y = data.target"
   ]
  },
  {
   "cell_type": "code",
   "execution_count": 3,
   "metadata": {
    "collapsed": true
   },
   "outputs": [],
   "source": [
    "X_train, X_test, y_train, y_test = train_test_split(X, y, test_size=0.98)"
   ]
  },
  {
   "cell_type": "markdown",
   "metadata": {},
   "source": [
    "We're using a large test_set size and a decision tree because we want bad results, since this is just about the graphics."
   ]
  },
  {
   "cell_type": "code",
   "execution_count": 4,
   "metadata": {},
   "outputs": [
    {
     "data": {
      "text/plain": [
       "DecisionTreeClassifier(class_weight=None, criterion='gini', max_depth=None,\n",
       "            max_features=None, max_leaf_nodes=None,\n",
       "            min_impurity_decrease=0.0, min_impurity_split=None,\n",
       "            min_samples_leaf=1, min_samples_split=2,\n",
       "            min_weight_fraction_leaf=0.0, presort=False, random_state=None,\n",
       "            splitter='best')"
      ]
     },
     "execution_count": 4,
     "metadata": {},
     "output_type": "execute_result"
    }
   ],
   "source": [
    "model = DecisionTreeClassifier()\n",
    "model.fit(X_train, y_train)"
   ]
  },
  {
   "cell_type": "code",
   "execution_count": 5,
   "metadata": {},
   "outputs": [
    {
     "data": {
      "text/plain": [
       "0.3717366628830874"
      ]
     },
     "execution_count": 5,
     "metadata": {},
     "output_type": "execute_result"
    }
   ],
   "source": [
    "model.score(X_test, y_test)"
   ]
  },
  {
   "cell_type": "markdown",
   "metadata": {},
   "source": [
    "Great! (or rather, really bad)\n",
    "\n",
    "This is a function to display confusion matrices by the size of a square in a grid. Note the "
   ]
  },
  {
   "cell_type": "code",
   "execution_count": 7,
   "metadata": {},
   "outputs": [],
   "source": [
    "from sklearn.metrics import confusion_matrix\n",
    "def plot_confusion_matrix(ax,\n",
    "                          y_true,\n",
    "                          y_pred,\n",
    "                          grid=False,\n",
    "                          area=True,\n",
    "                          normalization=\"maximum\"):\n",
    "    \"\"\"\n",
    "    Parameters\n",
    "    ----------\n",
    "    ax : matplotlib axis on which to draw graph.\n",
    "    y_true : list-like object\n",
    "        actual labels.\n",
    "    y_pred : list-like object of the same size as y_true\n",
    "        predictions based on model.\n",
    "    grid : bool, default False\n",
    "        whether to draw a grid.\n",
    "    area : bool, default: True\n",
    "        if True, the area of the square is proportional to the value. If False, the length\n",
    "        of a side is used.\n",
    "    nornalization : string, default: 'maximum'\n",
    "        How to normalize the values.\n",
    "        'maximum' : normalize all values so the largest value is 1.\n",
    "        'prediction' or 'precision' : normalize by columns so that the sum of each prediction is 1,\n",
    "            so the values represent the precisions\n",
    "        'true' or 'recall': normalize by rows so that the sum of each true value is 1,\n",
    "            so the values represent the recalls\n",
    "    \"\"\"\n",
    "    cm = confusion_matrix(y_true, y_pred).astype(float).transpose()\n",
    "    if normalization == 'maximum':\n",
    "        cm /= cm.max()\n",
    "    elif normalization == 'prediction' or normalization == 'precision':\n",
    "        cm /= cm.sum(axis=1, keepdims=True)\n",
    "    elif normalization == 'true' or normalization == 'recall':\n",
    "        cm /= cm.sum(axis=0, keepdims=True)\n",
    "    else:\n",
    "        raise ValueError(\"`normalization` should be one of `all`, `true`, or `predictions`\")\n",
    "    n = cm.shape[0]\n",
    "    \n",
    "    labels = np.unique(y_true)\n",
    "    tics = np.arange(n+1)\n",
    "    for axis in [ax.xaxis, ax.yaxis]:\n",
    "        axis.set_ticks(tics + 0.5, minor=True)\n",
    "        axis.set(ticks=tics, ticklabels=labels)\n",
    "    ax.tick_params(axis='both', which='major', length=0)\n",
    "\n",
    "    ax.set_xlim(-0.5, n-0.5)\n",
    "    ax.set_ylim(-0.5, n-0.5)\n",
    "\n",
    "    ax.invert_yaxis()\n",
    "    ax.grid(grid, which='minor')\n",
    "    \n",
    "    ax.set_xlabel('prediction')\n",
    "    ax.set_ylabel('true')\n",
    "\n",
    "    if area:\n",
    "        cm **= 0.5\n",
    "    for i in range(n):\n",
    "        for j in range(n):\n",
    "            size = cm[i, j]\n",
    "            square = matplotlib.patches.Rectangle((i - size/2, j - size/2), size, size)\n",
    "            ax.add_patch(square)"
   ]
  },
  {
   "cell_type": "code",
   "execution_count": 8,
   "metadata": {},
   "outputs": [
    {
     "data": {
      "image/png": "[encoded data removed]",
      "text/plain": [
       "<Figure size 576x576 with 1 Axes>"
      ]
     },
     "metadata": {},
     "output_type": "display_data"
    }
   ],
   "source": [
    "fig, ax = plt.subplots(figsize=(8,8))\n",
    "plot_confusion_matrix(ax, y_test, model.predict(X_test), area=False, grid=True, normalization='precision') \n"
   ]
  },
  {
   "cell_type": "code",
   "execution_count": 9,
   "metadata": {},
   "outputs": [
    {
     "data": {
      "image/png": "[encoded data removed]",
      "text/plain": [
       "<Figure size 288x288 with 1 Axes>"
      ]
     },
     "metadata": {},
     "output_type": "display_data"
    }
   ],
   "source": [
    "fig, ax = plt.subplots(figsize=(4, 4))\n",
    "plot_confusion_matrix(ax, [0,0,0,1,1,1,2,2,2], [0,0,0,1,1,0,2,1,0], area=False, grid=True, normalization='precision') \n"
   ]
  },
  {
   "cell_type": "code",
   "execution_count": null,
   "metadata": {
    "collapsed": true
   },
   "outputs": [],
   "source": []
  },
  {
   "cell_type": "code",
   "execution_count": null,
   "metadata": {
    "collapsed": true
   },
   "outputs": [],
   "source": []
  }
 ],
 "metadata": {
  "kernelspec": {
   "display_name": "Python 3",
   "language": "python",
   "name": "python3"
  },
  "language_info": {
   "codemirror_mode": {
    "name": "ipython",
    "version": 3
   },
   "file_extension": ".py",
   "mimetype": "text/x-python",
   "name": "python",
   "nbconvert_exporter": "python",
   "pygments_lexer": "ipython3",
   "version": "3.6.6"
  }
 },
 "nbformat": 4,
 "nbformat_minor": 2
}
