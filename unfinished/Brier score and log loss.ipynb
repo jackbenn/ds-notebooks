{
 "cells": [
  {
   "cell_type": "code",
   "execution_count": 2,
   "metadata": {},
   "outputs": [],
   "source": [
    "import numpy as np\n",
    "import matplotlib.pyplot as plt\n",
    "from scipy import stats\n",
    "%matplotlib inline"
   ]
  },
  {
   "cell_type": "markdown",
   "metadata": {},
   "source": [
    "# Brier score and log loss"
   ]
  },
  {
   "cell_type": "markdown",
   "metadata": {},
   "source": [
    "Two of the most common loss functions for classification problems are Brier loss and log loss (here I'm defining Brier loss as the negative of Brier score. This will examine the use cases of each."
   ]
  },
  {
   "cell_type": "markdown",
   "metadata": {},
   "source": [
    "For now we will consider binary classifiers."
   ]
  },
  {
   "cell_type": "code",
   "execution_count": null,
   "metadata": {},
   "outputs": [],
   "source": []
  },
  {
   "cell_type": "markdown",
   "metadata": {},
   "source": [
    "Suppose $y_i$ is the actual value for the $i$th data point, with a value of 1 or 0, and $p_i$ is the predicted probability that it is 1."
   ]
  },
  {
   "cell_type": "markdown",
   "metadata": {},
   "source": [
    "Brier loss is given by\n",
    "\n",
    "$$ B = \\sum_i (y_i - p_i)^2$$\n",
    "\n",
    "Log loss is given by\n",
    "\n",
    "$$L = -\\sum_i y_i \\ln p_i + (1 - y_i) \\ln (1 - p_i) $$"
   ]
  },
  {
   "cell_type": "markdown",
   "metadata": {},
   "source": [
    "Suppose you have a number of predictions, and you want build a model to maximize the number you get correct. If those errors are independent, then the total error is\n"
   ]
  },
  {
   "cell_type": "markdown",
   "metadata": {},
   "source": [
    "Suppose you have a number of predictions, and you want build a model to maximize the number you get correct. We might look at the overall loss function as\n",
    "\n",
    "$$ L = (\\sum_i y_i - \\sum_i p_i)^2$$\n",
    "\n",
    "which expands to\n",
    "\n",
    "$$\n",
    "\\begin{align}\n",
    "B &= (\\sum_i y_i - \\sum_j p_j)^2 \\\\\n",
    " &= (\\sum_{ij} y_i - p_j)^2\n",
    "\\end{align}\n",
    "$$\n",
    "\n",
    "If we can assume that $y_i$ is independent of $p_j$ for $i \\ne j$, the \n"
   ]
  },
  {
   "cell_type": "markdown",
   "metadata": {},
   "source": [
    "$$(y_1 + y_2 + y_3 - p_1 - p_2 - p_3)^2$$\n",
    "\n",
    "$$y_1^2 + y_2^2 + y_3^2 + p_1^2 + p_2^2 + p_3^2$$\n",
    "\n",
    "$$(y_1 + y_2 - p_1 - p_2)^2$$\n",
    "\n",
    "expanding\n",
    "\n",
    "$$y_1^2 + y_2^2 + p_1^2 + p_2^2 + 2 y_1 y_2 + 2 p_1 p_2 - 2 y_1 p_1 - 2 y_2 p_2  - 2 y_1 p_2 - 2 y_2 p_1 $$\n",
    "\n",
    "rearranging\n",
    "\n",
    "$$y_1^2 - 2 y_1 p_1 + p_1^2 + y_2^2 - 2 y_2 p_2 + p_2^2 + 2 y_1 y_2 + 2 p_1 p_2 - 2 y_1 p_2 - 2 y_2 p_1 $$\n",
    "\n",
    "simplifying\n",
    "\n",
    "$$(y_1 - p_1)^2 + (y_2 - p_2)^2 + 2 (y_1 y_2 + p_1 p_2 - y_1 p_2 - y_2 p_1) $$\n",
    "\n",
    "\n",
    "$$(y_1 - p_1)^2 + (y_2 - p_2)^2 + 2 (y_1 - p_1)(y_2 - p_2) $$\n",
    "\n",
    "If the errors are independent, then this simplifies to the sum of Brier losses."
   ]
  },
  {
   "cell_type": "markdown",
   "metadata": {},
   "source": [
    "Suppose we have a cost of a false positive and a false negative. We are using our model to make a prediction and then acting accordingly. E.g., if a false positive costs 5 and a false negative costs 1, and our model predicts an 0.8 probability of the positive class, then we would say our expectation if we choose positive is $$-5 \\cdot 0.2 = -1$$ and the expectation if we choose the negative class is $$-1 \\cdot 0.8 = -0.8$$ so we choose the negative class.\n",
    "\n",
    "So w"
   ]
  },
  {
   "cell_type": "code",
   "execution_count": null,
   "metadata": {},
   "outputs": [],
   "source": []
  },
  {
   "cell_type": "markdown",
   "metadata": {},
   "source": [
    "Let's assume there is a true underlying probability, and look as the underlying loss as a function of that probability."
   ]
  },
  {
   "cell_type": "code",
   "execution_count": 23,
   "metadata": {},
   "outputs": [],
   "source": [
    "def logloss(p, y):\n",
    "    return -np.log(p) if y else -np.log(1-p)\n",
    "\n",
    "def brierloss(p, y):\n",
    "    return (y - p)**2\n",
    "\n",
    "def expect(func, p, p_actual):\n",
    "    return p_actual * func(p, 1) + (1-p_actual) * func(p, 0)\n"
   ]
  },
  {
   "cell_type": "code",
   "execution_count": 24,
   "metadata": {},
   "outputs": [
    {
     "data": {
      "text/plain": [
       "0.3250829733914482"
      ]
     },
     "execution_count": 24,
     "metadata": {},
     "output_type": "execute_result"
    }
   ],
   "source": [
    "expect(logloss, 0.9, 0.9)"
   ]
  },
  {
   "cell_type": "code",
   "execution_count": 36,
   "metadata": {},
   "outputs": [
    {
     "name": "stderr",
     "output_type": "stream",
     "text": [
      "<ipython-input-23-b6886d34d324>:2: RuntimeWarning: divide by zero encountered in log\n",
      "  return -np.log(p) if y else -np.log(1-p)\n"
     ]
    },
    {
     "data": {
      "text/plain": [
       "<matplotlib.legend.Legend at 0x7f93c9392bb0>"
      ]
     },
     "execution_count": 36,
     "metadata": {},
     "output_type": "execute_result"
    },
    {
     "data": {
      "image/png": "[encoded data removed]",
      "text/plain": [
       "<Figure size 432x288 with 1 Axes>"
      ]
     },
     "metadata": {
      "needs_background": "light"
     },
     "output_type": "display_data"
    }
   ],
   "source": [
    "p_actual = 0.75\n",
    "fig, ax = plt.subplots()\n",
    "preds = np.linspace(0, 1, 100)\n",
    "losses = np.array([expect(logloss, pred, p_actual) for pred in preds])\n",
    "ax.plot(preds, losses, label='log loss')\n",
    "losses = np.array([expect(brierloss, pred, p_actual) for pred in preds])\n",
    "ax.plot(preds, 3*losses, label='brier loss')\n",
    "ax.set_xlabel('prediction')\n",
    "ax.set_ylabel('loss')\n",
    "ax.set_title(f'Expected losses for various prediction for the actual p={p_actual}')\n",
    "ax.legend()"
   ]
  },
  {
   "cell_type": "code",
   "execution_count": null,
   "metadata": {},
   "outputs": [],
   "source": []
  },
  {
   "cell_type": "markdown",
   "metadata": {},
   "source": [
    "Let's suppose that we are making individual the result of an outcome, so if you know that the "
   ]
  },
  {
   "cell_type": "code",
   "execution_count": null,
   "metadata": {},
   "outputs": [],
   "source": []
  },
  {
   "cell_type": "code",
   "execution_count": null,
   "metadata": {},
   "outputs": [],
   "source": []
  },
  {
   "cell_type": "markdown",
   "metadata": {},
   "source": [
    "Suppose we want to know, for a given probability, the p that minimizes log loss and brier loss."
   ]
  },
  {
   "cell_type": "markdown",
   "metadata": {},
   "source": [
    "https://fivethirtyeight.com/features/some-dos-and-donts-for-evaluating-senate-forecasts/"
   ]
  },
  {
   "cell_type": "code",
   "execution_count": 54,
   "metadata": {},
   "outputs": [],
   "source": [
    "import numpy as np\n",
    "import matplotlib.pyplot as plt\n",
    "%matplotlib inline"
   ]
  },
  {
   "cell_type": "code",
   "execution_count": 55,
   "metadata": {},
   "outputs": [],
   "source": [
    "true_p = 0.3"
   ]
  },
  {
   "cell_type": "markdown",
   "metadata": {},
   "source": [
    "This expectation values are"
   ]
  },
  {
   "cell_type": "code",
   "execution_count": 56,
   "metadata": {},
   "outputs": [],
   "source": [
    "pred_p = np.linspace(0, 1, 10000)"
   ]
  },
  {
   "cell_type": "code",
   "execution_count": 57,
   "metadata": {},
   "outputs": [
    {
     "name": "stderr",
     "output_type": "stream",
     "text": [
      "/Users/jackbennetto/anaconda3/lib/python3.7/site-packages/ipykernel_launcher.py:1: RuntimeWarning: divide by zero encountered in log2\n",
      "  \"\"\"Entry point for launching an IPython kernel.\n"
     ]
    }
   ],
   "source": [
    "log_loss = true_p * np.log2(pred_p) + (1-true_p) * np.log2(1-pred_p)"
   ]
  },
  {
   "cell_type": "code",
   "execution_count": 58,
   "metadata": {},
   "outputs": [],
   "source": [
    "brier_loss = -(true_p * (1-pred_p)**2 + (1-true_p) * (0-pred_p)**2)"
   ]
  },
  {
   "cell_type": "code",
   "execution_count": 81,
   "metadata": {},
   "outputs": [
    {
     "data": {
      "text/plain": [
       "Text(0.5, 1.0, 'Brier loss')"
      ]
     },
     "execution_count": 81,
     "metadata": {},
     "output_type": "execute_result"
    },
    {
     "data": {
      "image/png": "[encoded data removed]",
      "text/plain": [
       "<Figure size 864x360 with 2 Axes>"
      ]
     },
     "metadata": {
      "needs_background": "light"
     },
     "output_type": "display_data"
    }
   ],
   "source": [
    "fig, axs = plt.subplots(1, 2, figsize=(12, 5))\n",
    "for ax in axs:\n",
    "#    ax.set_xlim(.2, .4)\n",
    "    ax.axvline(.3, lw=0.5)\n",
    "\n",
    "axs[0].plot(pred_p, log_loss)\n",
    "#axs[0].set_ylim(-0.925, -0.88)\n",
    "axs[0].set_title('Log loss')\n",
    "\n",
    "axs[1].plot(pred_p, brier_loss)\n",
    "#axs[1].set_ylim(-0.222, -0.21)\n",
    "axs[1].set_title('Brier loss')\n",
    "\n",
    "\n",
    "#ax.set_xlim(0.299, 0.301)\n",
    "#ax.set_ylim(-0.8813, -0.88129)"
   ]
  },
  {
   "cell_type": "markdown",
   "metadata": {},
   "source": [
    "So clearly they have the same peak, and you handle them the same way for something like knn."
   ]
  },
  {
   "cell_type": "code",
   "execution_count": null,
   "metadata": {},
   "outputs": [],
   "source": []
  }
 ],
 "metadata": {
  "kernelspec": {
   "display_name": "Python 3",
   "language": "python",
   "name": "python3"
  },
  "language_info": {
   "codemirror_mode": {
    "name": "ipython",
    "version": 3
   },
   "file_extension": ".py",
   "mimetype": "text/x-python",
   "name": "python",
   "nbconvert_exporter": "python",
   "pygments_lexer": "ipython3",
   "version": "3.7.7"
  }
 },
 "nbformat": 4,
 "nbformat_minor": 4
}
