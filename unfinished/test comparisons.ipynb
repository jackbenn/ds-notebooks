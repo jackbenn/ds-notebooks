{
 "cells": [
  {
   "cell_type": "markdown",
   "metadata": {},
   "source": [
    "### A comparison different test statistics, using AUC ROC"
   ]
  },
  {
   "cell_type": "markdown",
   "metadata": {},
   "source": [
    "Consider a two distributions, $H_0$ and $H_A$\n",
    "\n",
    "We'll choose a specific $H_A$ so we can calculate power but will revisit this later.\n",
    "\n",
    "We will take a bunch of samples from each, and use a hypothesis test to distinguish them."
   ]
  },
  {
   "cell_type": "code",
   "execution_count": 64,
   "metadata": {},
   "outputs": [],
   "source": [
    "from scipy import stats\n",
    "import numpy as np\n",
    "from sklearn.metrics import roc_auc_score\n",
    "import matplotlib.pyplot as plt\n",
    "%matplotlib inline"
   ]
  },
  {
   "cell_type": "code",
   "execution_count": 72,
   "metadata": {},
   "outputs": [],
   "source": [
    "h0 = stats.norm(0, 1)\n",
    "ha = stats.norm(0.5, 1)"
   ]
  },
  {
   "cell_type": "code",
   "execution_count": 73,
   "metadata": {},
   "outputs": [],
   "source": [
    "sample_size = 5\n",
    "n_samples = 10000\n",
    "data = np.zeros((n_samples, sample_size))\n",
    "data[0:n_samples//2] = h0.rvs((n_samples//2, sample_size))\n",
    "data[n_samples//2:] = ha.rvs((n_samples//2, sample_size))\n",
    "labels = np.concatenate([np.zeros(n_samples//2), np.ones(n_samples//2)])"
   ]
  },
  {
   "cell_type": "markdown",
   "metadata": {},
   "source": [
    "Let's consider two statistics. One uses the unbiased variance. Which is better?"
   ]
  },
  {
   "cell_type": "code",
   "execution_count": 74,
   "metadata": {},
   "outputs": [],
   "source": [
    "se1 = data.mean(axis=1) / np.sqrt(data.var(axis=1)/sample_size)\n",
    "se2 = data.mean(axis=1) / np.sqrt(data.var(axis=1, ddof=1)/sample_size)"
   ]
  },
  {
   "cell_type": "code",
   "execution_count": 75,
   "metadata": {},
   "outputs": [
    {
     "name": "stdout",
     "output_type": "stream",
     "text": [
      "AUC for regular SE: 0.7685536\n",
      "AUC for regular SE: 0.7685536\n"
     ]
    }
   ],
   "source": [
    "print(f\"AUC for regular SE: {roc_auc_score(labels, se1)}\")\n",
    "print(f\"AUC for regular SE: {roc_auc_score(labels, se2)}\")"
   ]
  },
  {
   "cell_type": "code",
   "execution_count": 76,
   "metadata": {},
   "outputs": [
    {
     "data": {
      "text/plain": [
       "[<matplotlib.lines.Line2D at 0x1a1c661208>]"
      ]
     },
     "execution_count": 76,
     "metadata": {},
     "output_type": "execute_result"
    },
    {
     "data": {
      "image/png": "[encoded data removed]",
      "text/plain": [
       "<Figure size 432x288 with 1 Axes>"
      ]
     },
     "metadata": {
      "needs_background": "light"
     },
     "output_type": "display_data"
    }
   ],
   "source": [
    "fig, ax = plt.subplots()\n",
    "ax.plot(se1, se2, '.')\n",
    "ax.plot([-10, 30], [-10, 30])"
   ]
  },
  {
   "cell_type": "markdown",
   "metadata": {},
   "source": [
    "Crap. They are just ratios of each other. Well, of course they are. That wasn't interesting."
   ]
  },
  {
   "cell_type": "markdown",
   "metadata": {},
   "source": [
    "Okay, let's try the median divided by the ratio of the min and max. Probably a pretty bad statistic."
   ]
  },
  {
   "cell_type": "code",
   "execution_count": 77,
   "metadata": {},
   "outputs": [],
   "source": [
    "stat2 = np.median(data, axis=1) / (data.max() - data.min())"
   ]
  },
  {
   "cell_type": "code",
   "execution_count": 78,
   "metadata": {},
   "outputs": [
    {
     "name": "stdout",
     "output_type": "stream",
     "text": [
      "AUC with SE:        0.7685536\n",
      "AUC with med/range: 0.74645716\n"
     ]
    }
   ],
   "source": [
    "print(f\"AUC with SE:        {roc_auc_score(labels, se1)}\")\n",
    "print(f\"AUC with med/range: {roc_auc_score(labels, stat2)}\")"
   ]
  },
  {
   "cell_type": "markdown",
   "metadata": {},
   "source": [
    "Confirmed!"
   ]
  },
  {
   "cell_type": "code",
   "execution_count": null,
   "metadata": {},
   "outputs": [],
   "source": []
  }
 ],
 "metadata": {
  "kernelspec": {
   "display_name": "Python 3",
   "language": "python",
   "name": "python3"
  },
  "language_info": {
   "codemirror_mode": {
    "name": "ipython",
    "version": 3
   },
   "file_extension": ".py",
   "mimetype": "text/x-python",
   "name": "python",
   "nbconvert_exporter": "python",
   "pygments_lexer": "ipython3",
   "version": "3.6.7"
  }
 },
 "nbformat": 4,
 "nbformat_minor": 2
}
