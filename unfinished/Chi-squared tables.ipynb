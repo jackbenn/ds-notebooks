{
 "cells": [
  {
   "cell_type": "code",
   "execution_count": null,
   "metadata": {},
   "outputs": [],
   "source": [
    "%matplotlib inline\n",
    "import matplotlib.pyplot as plt\n",
    "import numpy as np\n",
    "from scipy.stats import gamma, chi2\n",
    "from scipy import stats"
   ]
  },
  {
   "cell_type": "code",
   "execution_count": null,
   "metadata": {},
   "outputs": [],
   "source": [
    "def random_tables(width):\n",
    "    npts = 100\n",
    "    cols = np.random.randint(0, width, size=npts)\n",
    "    rows = np.random.randint(0, 2, size=npts)\n",
    "    obs = np.histogram2d(rows, cols, [range(2+1), range(width+1)])[0]\n",
    "    row_sums = obs.sum(axis=1)\n",
    "    col_sums = obs.sum(axis=0)\n",
    "    N = obs.sum()\n",
    "    #print(row_sums, col_sums, N)\n",
    "    exp = np.array([[col_sums[i]*row_sums[j]/N for i in range(width)] for j in range(2)])\n",
    "    #print(exp)\n",
    "    return np.sum((obs-exp)**2/exp)"
   ]
  },
  {
   "cell_type": "code",
   "execution_count": 1,
   "metadata": {
    "scrolled": false
   },
   "outputs": [
    {
     "data": {
      "text/plain": [
       "[<matplotlib.lines.Line2D at 0x1183836a0>]"
      ]
     },
     "execution_count": 1,
     "metadata": {},
     "output_type": "execute_result"
    },
    {
     "data": {
      "image/png": "[encoded data removed]",
      "text/plain": [
       "<Figure size 432x288 with 1 Axes>"
      ]
     },
     "metadata": {
      "needs_background": "light"
     },
     "output_type": "display_data"
    }
   ],
   "source": [
    "n_catagories = 3\n",
    "n_dof = n_catagories-1\n",
    "obs = [random_tables(n_catagories) for _ in range(10000)]\n",
    "x = np.linspace(gamma.ppf(0.01, n_dof/2, scale=2), gamma.ppf(0.99, n_dof/2, scale=2), 100)\n",
    "y = gamma.pdf(x, n_dof/2, scale=2)\n",
    "y2 = chi2.pdf(x, n_dof)\n",
    "fig, ax = plt.subplots()\n",
    "ax.hist(obs, bins=50, density=True)\n",
    "ax.plot(x,y, 'g', lw=8)\n",
    "ax.plot(x,y2, 'r-*')"
   ]
  },
  {
   "cell_type": "code",
   "execution_count": 2,
   "metadata": {},
   "outputs": [],
   "source": [
    "npts = 10\n",
    "width = 3\n",
    "rows = np.random.randint(0, width, size=npts)\n",
    "cols = np.random.randint(0, 2, size=npts)\n",
    "obs = np.histogram2d(rows, cols, [range(width+1), range(2+1)])[0]"
   ]
  },
  {
   "cell_type": "code",
   "execution_count": 3,
   "metadata": {},
   "outputs": [
    {
     "data": {
      "text/plain": [
       "array([2, 0, 2, 2, 0, 1, 0, 2, 1, 0])"
      ]
     },
     "execution_count": 3,
     "metadata": {},
     "output_type": "execute_result"
    }
   ],
   "source": [
    "rows"
   ]
  },
  {
   "cell_type": "code",
   "execution_count": 43,
   "metadata": {},
   "outputs": [
    {
     "data": {
      "text/plain": [
       "array([1, 1, 0, 0, 1, 1, 0, 0, 1, 1])"
      ]
     },
     "execution_count": 43,
     "metadata": {},
     "output_type": "execute_result"
    }
   ],
   "source": [
    "cols"
   ]
  },
  {
   "cell_type": "code",
   "execution_count": 54,
   "metadata": {},
   "outputs": [],
   "source": [
    "cols = np.random.randint(0, width, size=npts)\n",
    "rows = np.random.randint(0, 2, size=npts)\n",
    "obs = np.histogram2d(rows, cols, [range(2+1), range(width+1)])[0]"
   ]
  },
  {
   "cell_type": "code",
   "execution_count": 55,
   "metadata": {},
   "outputs": [
    {
     "data": {
      "text/plain": [
       "array([[0., 4., 1.],\n",
       "       [2., 1., 2.]])"
      ]
     },
     "execution_count": 55,
     "metadata": {},
     "output_type": "execute_result"
    }
   ],
   "source": [
    "obs"
   ]
  },
  {
   "cell_type": "code",
   "execution_count": null,
   "metadata": {},
   "outputs": [],
   "source": []
  },
  {
   "cell_type": "code",
   "execution_count": null,
   "metadata": {},
   "outputs": [],
   "source": []
  },
  {
   "cell_type": "code",
   "execution_count": 27,
   "metadata": {},
   "outputs": [],
   "source": [
    "obs = np.zeros((width, 2))"
   ]
  },
  {
   "cell_type": "code",
   "execution_count": null,
   "metadata": {},
   "outputs": [],
   "source": []
  }
 ],
 "metadata": {
  "kernelspec": {
   "display_name": "Python 3",
   "language": "python",
   "name": "python3"
  },
  "language_info": {
   "codemirror_mode": {
    "name": "ipython",
    "version": 3
   },
   "file_extension": ".py",
   "mimetype": "text/x-python",
   "name": "python",
   "nbconvert_exporter": "python",
   "pygments_lexer": "ipython3",
   "version": "3.6.7"
  }
 },
 "nbformat": 4,
 "nbformat_minor": 2
}
