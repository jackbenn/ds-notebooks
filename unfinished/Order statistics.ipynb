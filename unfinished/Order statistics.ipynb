{
 "cells": [
  {
   "cell_type": "code",
   "execution_count": 1,
   "metadata": {},
   "outputs": [],
   "source": [
    "import numpy as np\n",
    "from scipy import stats\n",
    "import matplotlib.pyplot as plt\n",
    "%matplotlib inline\n"
   ]
  },
  {
   "cell_type": "code",
   "execution_count": 37,
   "metadata": {},
   "outputs": [],
   "source": [
    "values = stats.norm(0, 1).rvs((100000,101))\n",
    "values.sort(axis=1)"
   ]
  },
  {
   "cell_type": "code",
   "execution_count": 41,
   "metadata": {},
   "outputs": [
    {
     "data": {
      "image/png": "[encoded data removed]",
      "text/plain": [
       "<Figure size 432x288 with 1 Axes>"
      ]
     },
     "metadata": {
      "needs_background": "light"
     },
     "output_type": "display_data"
    }
   ],
   "source": [
    "fig, ax = plt.subplots()\n",
    "ax.hist(values[:, 1], bins=50)\n",
    "None"
   ]
  },
  {
   "cell_type": "code",
   "execution_count": 42,
   "metadata": {},
   "outputs": [
    {
     "data": {
      "text/plain": [
       "0.3765774620120199"
      ]
     },
     "execution_count": 42,
     "metadata": {},
     "output_type": "execute_result"
    }
   ],
   "source": [
    "stats.kurtosis(values[:, 1])"
   ]
  },
  {
   "cell_type": "code",
   "execution_count": 43,
   "metadata": {},
   "outputs": [
    {
     "data": {
      "text/plain": [
       "-0.4288408430551817"
      ]
     },
     "execution_count": 43,
     "metadata": {},
     "output_type": "execute_result"
    }
   ],
   "source": [
    "stats.skew(values[:, 1])"
   ]
  },
  {
   "cell_type": "code",
   "execution_count": 47,
   "metadata": {},
   "outputs": [
    {
     "data": {
      "text/plain": [
       "array([[ 0.0498865 , -0.53731523, -1.19198232,  1.03222816, -0.10588084],\n",
       "       [-0.36638361, -1.57739171, -0.6551443 ,  0.36317686,  1.57492527],\n",
       "       [ 1.7356347 , -0.44959546,  0.24439367,  1.91032094, -1.22763141],\n",
       "       [-0.07223099,  0.67383821, -0.45821065,  0.46883003,  1.56594994],\n",
       "       [-1.5412291 ,  0.48959889, -0.56803712,  1.40080183, -0.83627109],\n",
       "       [-0.18838052, -0.57460299,  0.34552297,  1.28754649,  0.53813966],\n",
       "       [-0.29277965,  0.11459894,  0.55964937, -0.52510406,  1.71920919],\n",
       "       [ 0.35363366,  0.26941041, -0.36275389,  0.81792026,  0.48729333],\n",
       "       [-0.14221747,  0.8114834 ,  1.92014318, -0.48944212, -0.14301296],\n",
       "       [ 0.2159707 ,  1.11707288, -0.70899224, -0.53211513,  0.40860766]])"
      ]
     },
     "execution_count": 47,
     "metadata": {},
     "output_type": "execute_result"
    }
   ],
   "source": [
    "a = stats.norm(0, 1).rvs((10,5))\n",
    "a"
   ]
  },
  {
   "cell_type": "code",
   "execution_count": 51,
   "metadata": {},
   "outputs": [
    {
     "data": {
      "text/plain": [
       "array([[-1.19198232, -0.53731523, -0.10588084,  0.0498865 ,  1.03222816],\n",
       "       [-1.57739171, -0.6551443 , -0.36638361,  0.36317686,  1.57492527],\n",
       "       [-1.22763141, -0.44959546,  0.24439367,  1.7356347 ,  1.91032094],\n",
       "       [-0.45821065, -0.07223099,  0.46883003,  0.67383821,  1.56594994],\n",
       "       [-1.5412291 , -0.83627109, -0.56803712,  0.48959889,  1.40080183],\n",
       "       [-0.57460299, -0.18838052,  0.34552297,  0.53813966,  1.28754649],\n",
       "       [-0.52510406, -0.29277965,  0.11459894,  0.55964937,  1.71920919],\n",
       "       [-0.36275389,  0.26941041,  0.35363366,  0.48729333,  0.81792026],\n",
       "       [-0.48944212, -0.14301296, -0.14221747,  0.8114834 ,  1.92014318],\n",
       "       [-0.70899224, -0.53211513,  0.2159707 ,  0.40860766,  1.11707288]])"
      ]
     },
     "execution_count": 51,
     "metadata": {},
     "output_type": "execute_result"
    }
   ],
   "source": [
    "np.sort(a, axis=1)"
   ]
  },
  {
   "cell_type": "code",
   "execution_count": null,
   "metadata": {},
   "outputs": [],
   "source": []
  }
 ],
 "metadata": {
  "kernelspec": {
   "display_name": "Python 3",
   "language": "python",
   "name": "python3"
  },
  "language_info": {
   "codemirror_mode": {
    "name": "ipython",
    "version": 3
   },
   "file_extension": ".py",
   "mimetype": "text/x-python",
   "name": "python",
   "nbconvert_exporter": "python",
   "pygments_lexer": "ipython3",
   "version": "3.6.7"
  }
 },
 "nbformat": 4,
 "nbformat_minor": 2
}
