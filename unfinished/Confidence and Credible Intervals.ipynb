{
 "cells": [
  {
   "cell_type": "markdown",
   "metadata": {},
   "source": [
    "## An exploration of the difference of confidence and credible intervals\n",
    "\n",
    "I believe in many cases these are they same, and I'd like to verify that."
   ]
  },
  {
   "cell_type": "markdown",
   "metadata": {},
   "source": [
    "Let's consider the case of a numbers drawn from a normal distribution mean variance of 1 and unknown mean.\n",
    "\n",
    "For our fake data, let's use a mean of 0."
   ]
  },
  {
   "cell_type": "code",
   "execution_count": 2,
   "metadata": {},
   "outputs": [],
   "source": [
    "import numpy as np\n",
    "from scipy import stats\n",
    "import matplotlib.pyplot as plt\n",
    "%matplotlib inline"
   ]
  },
  {
   "cell_type": "code",
   "execution_count": 3,
   "metadata": {},
   "outputs": [],
   "source": [
    "mean = 0\n",
    "sd = 1\n",
    "pop = stats.norm(mean, sd)"
   ]
  },
  {
   "cell_type": "code",
   "execution_count": 6,
   "metadata": {},
   "outputs": [],
   "source": [
    "size = 20\n",
    "data = pop.rvs(size)"
   ]
  },
  {
   "cell_type": "markdown",
   "metadata": {},
   "source": [
    "To get the confidence interval, take some bootstrap intervals."
   ]
  },
  {
   "cell_type": "code",
   "execution_count": 34,
   "metadata": {},
   "outputs": [],
   "source": [
    "n_bootstraps = 100000\n",
    "bootstraps = np.random.choice(data, (n_bootstraps, size), replace=True)"
   ]
  },
  {
   "cell_type": "markdown",
   "metadata": {},
   "source": [
    "We'll look at 95% confidence (and credible) intervals."
   ]
  },
  {
   "cell_type": "code",
   "execution_count": 35,
   "metadata": {},
   "outputs": [],
   "source": [
    "width = 0.95"
   ]
  },
  {
   "cell_type": "code",
   "execution_count": 36,
   "metadata": {},
   "outputs": [],
   "source": [
    "means = bootstraps.mean(axis=1)\n",
    "means.sort()"
   ]
  },
  {
   "cell_type": "code",
   "execution_count": 41,
   "metadata": {},
   "outputs": [],
   "source": [
    "idx_lower = int(n_bootstraps*(1-width)/2)\n",
    "idx_upper = int(n_bootstraps*(1+width)/2)"
   ]
  },
  {
   "cell_type": "code",
   "execution_count": 83,
   "metadata": {},
   "outputs": [
    {
     "name": "stdout",
     "output_type": "stream",
     "text": [
      "Confidence interval: -0.3020695208772386, 0.5412739195226006\n"
     ]
    },
    {
     "data": {
      "image/png": "[encoded data removed]",
      "text/plain": [
       "<Figure size 864x288 with 1 Axes>"
      ]
     },
     "metadata": {
      "needs_background": "light"
     },
     "output_type": "display_data"
    }
   ],
   "source": [
    "fig, ax = plt.subplots(figsize=(12, 4))\n",
    "ax.hist(means, bins=250, density=True)\n",
    "\n",
    "ax.axvline(means[idx_lower], c='r')\n",
    "ax.axvline(means[idx_upper], c='r')\n",
    "ax.set_xlabel(\"mean of bootsrap sample\")\n",
    "print(f\"Confidence interval: {means[idx_lower]}, {means[idx_upper]}\")"
   ]
  },
  {
   "cell_type": "markdown",
   "metadata": {},
   "source": [
    "Now let's try credible intervals."
   ]
  },
  {
   "cell_type": "markdown",
   "metadata": {},
   "source": [
    "The likelihood function is normal with an unknown mean and variance of 1. Let's do this by breaking the hypothesis into lots of parts. We'll use a uniform prior in some reasonable range."
   ]
  },
  {
   "cell_type": "code",
   "execution_count": 87,
   "metadata": {},
   "outputs": [],
   "source": [
    "n_hyps = 200\n",
    "xlim = -2, 2\n",
    "\n",
    "hyps = np.linspace(*xlim, n_hyps)\n",
    "prior = np.ones(n_hyps) / n_hyps\n",
    "\n",
    "for datum in data:\n",
    "    prior *= stats.norm(hyps, 1).pdf(datum)\n",
    "\n",
    "# normalize\n",
    "prior *=  n_hyps / (xlim[1]-xlim[0]) / prior.sum()"
   ]
  },
  {
   "cell_type": "code",
   "execution_count": 88,
   "metadata": {},
   "outputs": [
    {
     "data": {
      "text/plain": [
       "50.0"
      ]
     },
     "execution_count": 88,
     "metadata": {},
     "output_type": "execute_result"
    }
   ],
   "source": [
    "prior.sum()"
   ]
  },
  {
   "cell_type": "code",
   "execution_count": 86,
   "metadata": {},
   "outputs": [
    {
     "data": {
      "image/png": "[encoded data removed]",
      "text/plain": [
       "<Figure size 864x288 with 1 Axes>"
      ]
     },
     "execution_count": 86,
     "metadata": {},
     "output_type": "execute_result"
    }
   ],
   "source": [
    "#fig, ax = plt.subplots(figsize=(12, 4))\n",
    "ax.plot(hyps, prior)\n",
    "fig"
   ]
  },
  {
   "cell_type": "markdown",
   "metadata": {},
   "source": [
    "They match!"
   ]
  },
  {
   "cell_type": "markdown",
   "metadata": {},
   "source": [
    "What if we didn't know the standard deviation?"
   ]
  },
  {
   "cell_type": "code",
   "execution_count": null,
   "metadata": {},
   "outputs": [],
   "source": [
    "n_hyps_mean = 200\n",
    "n_hyps_sd = 200\n",
    "lim_mean = -2, 2\n",
    "lim_sd = -2, 2\n",
    "\n",
    "hyps_mean = np.linspace(*lim_mean, n_hyps_mean)\n",
    "hyps_sd = np.linspace(*lim_sd, n_hyps_sd)\n",
    "\n",
    "prior = np.ones((n_hyps_mean, n_hyps_sd)) / n_hyps\n",
    "\n",
    "for datum in data:\n",
    "    prior *= stats.norm(hyps, 1).pdf(datum)\n",
    "\n",
    "# normalize\n",
    "prior *=  n_hyps / (xlim[1]-xlim[0]) / prior.sum()"
   ]
  }
 ],
 "metadata": {
  "kernelspec": {
   "display_name": "Python 3",
   "language": "python",
   "name": "python3"
  },
  "language_info": {
   "codemirror_mode": {
    "name": "ipython",
    "version": 3
   },
   "file_extension": ".py",
   "mimetype": "text/x-python",
   "name": "python",
   "nbconvert_exporter": "python",
   "pygments_lexer": "ipython3",
   "version": "3.6.7"
  }
 },
 "nbformat": 4,
 "nbformat_minor": 2
}
