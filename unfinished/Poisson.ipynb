{
 "cells": [
  {
   "cell_type": "markdown",
   "metadata": {},
   "source": [
    "### Poisson Counting models"
   ]
  },
  {
   "cell_type": "markdown",
   "metadata": {},
   "source": [
    "#### Poisson Trees\n",
    "\n",
    "For poisson decision trees, we need to do MLE on the data, and have a loss function to minimize.\n",
    "\n",
    "$$\n",
    "f = \\prod_i \\frac{\\lambda^{k_i} e^{-\\lambda}}{k_i !}\n",
    "$$\n",
    "\n",
    "$$\n",
    "ln{f} = \\sum_i k_i ln{\\lambda} -\\lambda - ln{k_i !}\n",
    "$$\n",
    "\n",
    "$$\n",
    "\\frac{dln{f}}{d\\lambda} = \\sum_i k_i \\frac{1}{\\lambda} - 1\n",
    "$$\n",
    "\n",
    "So the maximum log likelihood is when \n",
    "\n",
    "$$\n",
    "0 = \\sum_i k_i \\frac{1}{\\lambda} - 1\n",
    "$$\n",
    "$$\n",
    "N\\lambda = \\sum_i k_i\n",
    "$$\n",
    "$$\n",
    "\\lambda = \\frac{\\sum_i k_i}{N}\n",
    "$$\n",
    "\n",
    "Which is pretty much what we expect, just the mean of the data."
   ]
  },
  {
   "cell_type": "markdown",
   "metadata": {},
   "source": [
    "The next question is, can we use MSE as our loss function?"
   ]
  },
  {
   "cell_type": "code",
   "execution_count": null,
   "metadata": {},
   "outputs": [],
   "source": []
  }
 ],
 "metadata": {
  "kernelspec": {
   "display_name": "Python 3",
   "language": "python",
   "name": "python3"
  },
  "language_info": {
   "codemirror_mode": {
    "name": "ipython",
    "version": 3
   },
   "file_extension": ".py",
   "mimetype": "text/x-python",
   "name": "python",
   "nbconvert_exporter": "python",
   "pygments_lexer": "ipython3",
   "version": "3.6.7"
  }
 },
 "nbformat": 4,
 "nbformat_minor": 2
}
