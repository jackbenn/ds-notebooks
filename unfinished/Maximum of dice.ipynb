{
 "cells": [
  {
   "cell_type": "markdown",
   "id": "premier-virginia",
   "metadata": {},
   "source": [
    "**Problem:** Find the expectation value of the maximum of 3 6-sides dice, both by simulation and calculating it mathematically."
   ]
  },
  {
   "cell_type": "code",
   "execution_count": 1,
   "id": "continent-style",
   "metadata": {},
   "outputs": [],
   "source": [
    "from scipy import stats\n",
    "import numpy as np\n",
    "import matplotlib.pyplot as plt\n",
    "%matplotlib inline"
   ]
  },
  {
   "cell_type": "markdown",
   "id": "upper-object",
   "metadata": {},
   "source": [
    "### Simulation\n",
    "\n",
    "First, we'll do this by simulation. By the Law of Large Numbers, the average base on a large sample of a random variable will converge to the expectation value. To do that we create a distribution object:"
   ]
  },
  {
   "cell_type": "code",
   "execution_count": 2,
   "id": "outdoor-current",
   "metadata": {},
   "outputs": [],
   "source": [
    "die = stats.randint(1, 7)"
   ]
  },
  {
   "cell_type": "markdown",
   "id": "ancient-arthur",
   "metadata": {},
   "source": [
    "And roll it `3 * n_rolls` times, putting the results in a 3 by `n_rolls` array. We take the max over each column (the 3 rolls) so we'll have an array of shape `(n_rolls,)`, and calculate the mean."
   ]
  },
  {
   "cell_type": "code",
   "execution_count": 3,
   "id": "recorded-apple",
   "metadata": {},
   "outputs": [
    {
     "data": {
      "text/plain": [
       "4.9577"
      ]
     },
     "execution_count": 3,
     "metadata": {},
     "output_type": "execute_result"
    }
   ],
   "source": [
    "n_rolls = 10000\n",
    "maxes = die.rvs((3, n_rolls)).max(axis=0)\n",
    "maxes.mean()"
   ]
  },
  {
   "cell_type": "markdown",
   "id": "lesser-culture",
   "metadata": {},
   "source": [
    "We can plot the results. We'll just use a histogram with fixed bin boundaries."
   ]
  },
  {
   "cell_type": "code",
   "execution_count": 4,
   "id": "continental-prince",
   "metadata": {},
   "outputs": [
    {
     "data": {
      "image/png": "[encoded data removed]",
      "text/plain": [
       "<Figure size 432x288 with 1 Axes>"
      ]
     },
     "metadata": {
      "needs_background": "light"
     },
     "output_type": "display_data"
    }
   ],
   "source": [
    "fig, ax = plt.subplots()\n",
    "ax.hist(maxes,\n",
    "        bins=np.arange(7),\n",
    "        density=True)\n",
    "ax.set_title('PMF of maximum of 3 six-sided dice')\n",
    "ax.set_xlabel('maximum roll')\n",
    "ax.set_ylabel('probability');"
   ]
  },
  {
   "cell_type": "markdown",
   "id": "amino-friendly",
   "metadata": {},
   "source": [
    "As an aside, let's see how long different approaches take, the numpy approach above vs. looping over the sets of rolls."
   ]
  },
  {
   "cell_type": "code",
   "execution_count": 5,
   "id": "upset-match",
   "metadata": {},
   "outputs": [
    {
     "name": "stdout",
     "output_type": "stream",
     "text": [
      "64.1 ms ± 566 µs per loop (mean ± std. dev. of 7 runs, 10 loops each)\n"
     ]
    }
   ],
   "source": [
    "%%timeit\n",
    "n_rolls = 1000\n",
    "maxes = []\n",
    "for i in range(n_rolls):\n",
    "    maxes.append(die.rvs(3).max())\n",
    "np.mean(maxes)"
   ]
  },
  {
   "cell_type": "code",
   "execution_count": 6,
   "id": "hazardous-april",
   "metadata": {},
   "outputs": [
    {
     "name": "stdout",
     "output_type": "stream",
     "text": [
      "65.9 ms ± 989 µs per loop (mean ± std. dev. of 7 runs, 10 loops each)\n"
     ]
    }
   ],
   "source": [
    "%%timeit\n",
    "n_rolls = 1000\n",
    "maxes = np.zeros(n_rolls)\n",
    "for i in range(n_rolls):\n",
    "    maxes[i] = die.rvs(3).max()\n",
    "maxes.mean()"
   ]
  },
  {
   "cell_type": "code",
   "execution_count": 7,
   "id": "moving-leather",
   "metadata": {},
   "outputs": [
    {
     "name": "stdout",
     "output_type": "stream",
     "text": [
      "121 µs ± 1.93 µs per loop (mean ± std. dev. of 7 runs, 10000 loops each)\n"
     ]
    }
   ],
   "source": [
    "%%timeit\n",
    "n_rolls = 1000\n",
    "die.rvs((3, n_rolls)).max(axis=0).mean()"
   ]
  },
  {
   "cell_type": "markdown",
   "id": "atomic-shoot",
   "metadata": {},
   "source": [
    "So the numpy approach was a lot faster, but appending results to a list rather than inserting into a pre-allocated array didn't much matter. Inserting it *should* be faster, but apparently that's not that big of a different."
   ]
  },
  {
   "cell_type": "markdown",
   "id": "expressed-homework",
   "metadata": {},
   "source": [
    "### Calculation\n",
    "\n",
    "Do do the calculation we'll do some broadcasting magic. We first create an array with the possible rolls (each equally probable)."
   ]
  },
  {
   "cell_type": "code",
   "execution_count": 8,
   "id": "static-heading",
   "metadata": {},
   "outputs": [],
   "source": [
    "d6 = np.arange(1, 7)"
   ]
  },
  {
   "cell_type": "markdown",
   "id": "automotive-chemistry",
   "metadata": {},
   "source": [
    "If we take the maximum of that array with a version of it reshaped into a column vector, numpy broadcasts both into arrays of shape `(6, 6)`, and takes the maximum of the two broadcast array for each element.\n"
   ]
  },
  {
   "cell_type": "code",
   "execution_count": 9,
   "id": "naval-valuation",
   "metadata": {},
   "outputs": [
    {
     "data": {
      "text/plain": [
       "array([[1, 2, 3, 4, 5, 6],\n",
       "       [2, 2, 3, 4, 5, 6],\n",
       "       [3, 3, 3, 4, 5, 6],\n",
       "       [4, 4, 4, 4, 5, 6],\n",
       "       [5, 5, 5, 5, 5, 6],\n",
       "       [6, 6, 6, 6, 6, 6]])"
      ]
     },
     "execution_count": 9,
     "metadata": {},
     "output_type": "execute_result"
    }
   ],
   "source": [
    "maxes = np.maximum(d6,\n",
    "                   d6.reshape(6, 1))\n",
    "maxes"
   ]
  },
  {
   "cell_type": "markdown",
   "id": "equipped-relevance",
   "metadata": {},
   "source": [
    "If that's not quite clear: these are the shapes of the two array after broadcasting, before doing the `np.maximum`."
   ]
  },
  {
   "cell_type": "code",
   "execution_count": 10,
   "id": "scheduled-geneva",
   "metadata": {},
   "outputs": [
    {
     "name": "stdout",
     "output_type": "stream",
     "text": [
      "[[1. 2. 3. 4. 5. 6.]\n",
      " [1. 2. 3. 4. 5. 6.]\n",
      " [1. 2. 3. 4. 5. 6.]\n",
      " [1. 2. 3. 4. 5. 6.]\n",
      " [1. 2. 3. 4. 5. 6.]\n",
      " [1. 2. 3. 4. 5. 6.]]\n",
      "[[1. 1. 1. 1. 1. 1.]\n",
      " [2. 2. 2. 2. 2. 2.]\n",
      " [3. 3. 3. 3. 3. 3.]\n",
      " [4. 4. 4. 4. 4. 4.]\n",
      " [5. 5. 5. 5. 5. 5.]\n",
      " [6. 6. 6. 6. 6. 6.]]\n"
     ]
    }
   ],
   "source": [
    "print(d6 + np.zeros((6, 1)))\n",
    "print(d6.reshape(6, 1) + np.zeros(6))"
   ]
  },
  {
   "cell_type": "markdown",
   "id": "original-genealogy",
   "metadata": {},
   "source": [
    "That combined array represents the 36 possibilities for the max of two die roles.\n",
    "\n",
    "But really we have 3 rolls, so we need to do a maximum of 3 arrays:"
   ]
  },
  {
   "cell_type": "code",
   "execution_count": 16,
   "id": "allied-basis",
   "metadata": {},
   "outputs": [
    {
     "data": {
      "text/plain": [
       "array([[[1, 2, 3, 4, 5, 6],\n",
       "        [2, 2, 3, 4, 5, 6],\n",
       "        [3, 3, 3, 4, 5, 6],\n",
       "        [4, 4, 4, 4, 5, 6],\n",
       "        [5, 5, 5, 5, 5, 6],\n",
       "        [6, 6, 6, 6, 6, 6]],\n",
       "\n",
       "       [[2, 2, 3, 4, 5, 6],\n",
       "        [2, 2, 3, 4, 5, 6],\n",
       "        [3, 3, 3, 4, 5, 6],\n",
       "        [4, 4, 4, 4, 5, 6],\n",
       "        [5, 5, 5, 5, 5, 6],\n",
       "        [6, 6, 6, 6, 6, 6]],\n",
       "\n",
       "       [[3, 3, 3, 4, 5, 6],\n",
       "        [3, 3, 3, 4, 5, 6],\n",
       "        [3, 3, 3, 4, 5, 6],\n",
       "        [4, 4, 4, 4, 5, 6],\n",
       "        [5, 5, 5, 5, 5, 6],\n",
       "        [6, 6, 6, 6, 6, 6]],\n",
       "\n",
       "       [[4, 4, 4, 4, 5, 6],\n",
       "        [4, 4, 4, 4, 5, 6],\n",
       "        [4, 4, 4, 4, 5, 6],\n",
       "        [4, 4, 4, 4, 5, 6],\n",
       "        [5, 5, 5, 5, 5, 6],\n",
       "        [6, 6, 6, 6, 6, 6]],\n",
       "\n",
       "       [[5, 5, 5, 5, 5, 6],\n",
       "        [5, 5, 5, 5, 5, 6],\n",
       "        [5, 5, 5, 5, 5, 6],\n",
       "        [5, 5, 5, 5, 5, 6],\n",
       "        [5, 5, 5, 5, 5, 6],\n",
       "        [6, 6, 6, 6, 6, 6]],\n",
       "\n",
       "       [[6, 6, 6, 6, 6, 6],\n",
       "        [6, 6, 6, 6, 6, 6],\n",
       "        [6, 6, 6, 6, 6, 6],\n",
       "        [6, 6, 6, 6, 6, 6],\n",
       "        [6, 6, 6, 6, 6, 6],\n",
       "        [6, 6, 6, 6, 6, 6]]])"
      ]
     },
     "execution_count": 16,
     "metadata": {},
     "output_type": "execute_result"
    }
   ],
   "source": [
    "maxes = np.maximum(np.maximum(d6,\n",
    "                              d6.reshape(-1, 1)),\n",
    "                   d6.reshape(-1, 1, 1))\n",
    "maxes"
   ]
  },
  {
   "cell_type": "markdown",
   "id": "talented-rolling",
   "metadata": {},
   "source": [
    "Since all those 216 options are equally likely, we can find the expectation value as the mean of the array."
   ]
  },
  {
   "cell_type": "code",
   "execution_count": 19,
   "id": "looking-garden",
   "metadata": {},
   "outputs": [
    {
     "data": {
      "text/plain": [
       "1071"
      ]
     },
     "execution_count": 19,
     "metadata": {},
     "output_type": "execute_result"
    }
   ],
   "source": [
    "maxes.sum()"
   ]
  },
  {
   "cell_type": "markdown",
   "id": "nervous-secretariat",
   "metadata": {},
   "source": [
    "Again, here's a plot PMF of that random variable."
   ]
  },
  {
   "cell_type": "code",
   "execution_count": 13,
   "id": "parliamentary-concert",
   "metadata": {},
   "outputs": [
    {
     "data": {
      "image/png": "[encoded data removed]",
      "text/plain": [
       "<Figure size 432x288 with 1 Axes>"
      ]
     },
     "metadata": {
      "needs_background": "light"
     },
     "output_type": "display_data"
    }
   ],
   "source": [
    "fig, ax = plt.subplots()\n",
    "ax.hist(maxes.flatten(),\n",
    "        bins=np.arange(7),\n",
    "        density=True)\n",
    "ax.set_title('PMF of maximum of 3 six-sided dice')\n",
    "ax.set_xlabel('maximum roll')\n",
    "ax.set_ylabel('probability');"
   ]
  },
  {
   "cell_type": "code",
   "execution_count": null,
   "id": "international-lying",
   "metadata": {},
   "outputs": [],
   "source": [
    "for x in range(1, 7):\n",
    "    "
   ]
  }
 ],
 "metadata": {
  "kernelspec": {
   "display_name": "Python 3",
   "language": "python",
   "name": "python3"
  },
  "language_info": {
   "codemirror_mode": {
    "name": "ipython",
    "version": 3
   },
   "file_extension": ".py",
   "mimetype": "text/x-python",
   "name": "python",
   "nbconvert_exporter": "python",
   "pygments_lexer": "ipython3",
   "version": "3.9.1"
  }
 },
 "nbformat": 4,
 "nbformat_minor": 5
}
