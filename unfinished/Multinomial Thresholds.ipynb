{
 "cells": [
  {
   "cell_type": "markdown",
   "metadata": {},
   "source": [
    "### Multinomial thresholds\n",
    "\n",
    "If we have a classification problem with more than n options, the probability space is represented by a simplex in embedded in n dimensions, and so the thresholds aren't a simple number but a surface in n dimensions, partitioning things into three spaces."
   ]
  },
  {
   "cell_type": "markdown",
   "metadata": {},
   "source": [
    "Suppose we make choices based on a cost-benefit matrix (assuming the choices are IID).\n",
    "\n",
    "Hypothesis: that will lead to strain-line boundaries in probability space.\n",
    "\n",
    "That fits in terms of degrees of freedom.\n",
    "\n",
    "Let's suppose the cost-benefit matrix is given by $C_{ij}$, where the row $i$ specifies the predicted label, and the column $j$ gives the actual label, and the predicted probability is $p_j$.\n",
    "\n",
    "Then the cost for a given position is $\\sum_j C_{ij} p_j$.\n",
    "\n",
    "So the boundary between assigning a predicted label of $i$ and $k$ is\n",
    "\n",
    "$$ \\sum_j C_{ij} p_j = \\sum_j C_{kj} p_j$$\n",
    "$$ \\sum_j (C_{ij} - C_{kj}) p_j = 0$$\n",
    "\n",
    "So given some CB matrix, we can generate a ternary graph dividing the space."
   ]
  },
  {
   "cell_type": "code",
   "execution_count": null,
   "metadata": {},
   "outputs": [],
   "source": []
  },
  {
   "cell_type": "code",
   "execution_count": null,
   "metadata": {},
   "outputs": [],
   "source": []
  },
  {
   "cell_type": "code",
   "execution_count": null,
   "metadata": {},
   "outputs": [],
   "source": []
  },
  {
   "cell_type": "code",
   "execution_count": null,
   "metadata": {},
   "outputs": [],
   "source": []
  },
  {
   "cell_type": "code",
   "execution_count": null,
   "metadata": {},
   "outputs": [],
   "source": []
  },
  {
   "cell_type": "markdown",
   "metadata": {},
   "source": [
    "Note that the actions needn't have a one-to-one correspondence with the labels, and the true cost-benefit matrix should specify the actions, not the predictions."
   ]
  }
 ],
 "metadata": {
  "kernelspec": {
   "display_name": "Python 3",
   "language": "python",
   "name": "python3"
  },
  "language_info": {
   "codemirror_mode": {
    "name": "ipython",
    "version": 3
   },
   "file_extension": ".py",
   "mimetype": "text/x-python",
   "name": "python",
   "nbconvert_exporter": "python",
   "pygments_lexer": "ipython3",
   "version": "3.6.7"
  }
 },
 "nbformat": 4,
 "nbformat_minor": 2
}
