{
 "cells": [
  {
   "cell_type": "markdown",
   "metadata": {},
   "source": [
    "## A Comparison of the Using Entropy and Gini Impurity"
   ]
  },
  {
   "cell_type": "code",
   "execution_count": 15,
   "metadata": {},
   "outputs": [],
   "source": [
    "import numpy as np\n",
    "import matplotlib.pyplot as plt\n",
    "%matplotlib inline"
   ]
  },
  {
   "cell_type": "code",
   "execution_count": 16,
   "metadata": {},
   "outputs": [],
   "source": [
    "def entropy(y):\n",
    "    \"\"\"Return the entropy of the array y.\n",
    "    \n",
    "    Parameters\n",
    "    ----------\n",
    "    y: 1d numpy array\n",
    "    \n",
    "    Returns\n",
    "    -------\n",
    "    float\n",
    "    \"\"\"\n",
    "    total_samples = y.shape[0]\n",
    "    summation = 0\n",
    "    \n",
    "    for class_i in np.unique(y):\n",
    "        prob = np.mean(y == class_i)\n",
    "        summation += prob * np.log2(prob)\n",
    "    \n",
    "    return -summation\n",
    "\n",
    "def gini(y):\n",
    "    \"\"\"Return the entropy of the array y.\n",
    "    \n",
    "    Parameters\n",
    "    ----------\n",
    "    y: 1d numpy array\n",
    "    \n",
    "    Returns\n",
    "    -------\n",
    "    float\n",
    "    \"\"\"\n",
    "    total_samples = y.shape[0]\n",
    "    summation = 0\n",
    "    \n",
    "    for class_i in np.unique(y):\n",
    "        prob = np.mean(y == class_i)\n",
    "        summation += prob**2\n",
    "    \n",
    "    return 1 - summation\n",
    "\n",
    "def make_targets(*args):\n",
    "    \"\"\"Return an array of sequential integers, each repeated as many times\n",
    "    as the corresponding element of count\n",
    "    \n",
    "    Parameters\n",
    "    ----------\n",
    "    args: integers \n",
    "    \n",
    "    Returns\n",
    "    -------\n",
    "    1d numpy array\n",
    "    \"\"\"\n",
    "    return np.concatenate([np.ones(count) * i for i, count in enumerate(args)])\n",
    "\n",
    "def weighted_impurity(left, right, function):\n",
    "    \"\"\"Return the information gain of making the given split.\n",
    "    \n",
    "    Parameters\n",
    "    ----------\n",
    "    left: 1d numpy array of target values of the left split\n",
    "    right: 1d numpy array of target values of the right split\n",
    "    function: impurity function consuming array of target values\n",
    "    \n",
    "    Returns\n",
    "    -------\n",
    "    float\n",
    "    \"\"\"\n",
    "    impurity = function(left) * len(left) + function(right) * len(right)\n",
    "    impurity /= len(left) + len(right)\n",
    "    return impurity"
   ]
  },
  {
   "cell_type": "code",
   "execution_count": 17,
   "metadata": {},
   "outputs": [],
   "source": [
    "def impurity_loss(left, right, function):\n",
    "    original = np.concatenate([left, right])\n",
    "    p_left = len(left) / (len(left) + len(right))\n",
    "    p_right = 1 - p_left\n",
    "    return function(original) - p_left*function(left) - p_right*function(right)"
   ]
  },
  {
   "cell_type": "markdown",
   "metadata": {},
   "source": [
    "To calculate the entropy of a split in which the left side gets 20 0's and 5 1's, and the right gets 30 0's and 45 1's, do:"
   ]
  },
  {
   "cell_type": "code",
   "execution_count": 18,
   "metadata": {},
   "outputs": [
    {
     "data": {
      "text/plain": [
       "0.0913050304371581"
      ]
     },
     "execution_count": 18,
     "metadata": {},
     "output_type": "execute_result"
    }
   ],
   "source": [
    "impurity_loss(make_targets(20, 5),\n",
    "              make_targets(30,45),\n",
    "              entropy)"
   ]
  },
  {
   "cell_type": "code",
   "execution_count": 49,
   "metadata": {},
   "outputs": [],
   "source": [
    "count = 10\n",
    "left, right = np.meshgrid(np.arange(0, count+1), np.arange(0, count+1))"
   ]
  },
  {
   "cell_type": "code",
   "execution_count": 55,
   "metadata": {},
   "outputs": [],
   "source": [
    "loss_entropy = np.zeros((count+1, count+1))\n",
    "loss_gini = np.zeros((count+1, count+1))\n",
    "\n",
    "for i in range(count+1):\n",
    "    for j in range(count+1):\n",
    "        loss_entropy[i, j] = impurity_loss(make_targets(i, count-i),\n",
    "                                           make_targets(j, count-j),\n",
    "                                           entropy)\n",
    "        loss_gini[i, j] = impurity_loss(make_targets(i, count-i),\n",
    "                                           make_targets(j, count-j),\n",
    "                                           gini)"
   ]
  },
  {
   "cell_type": "code",
   "execution_count": 56,
   "metadata": {},
   "outputs": [
    {
     "data": {
      "text/plain": [
       "Text(0, 0.5, 'right')"
      ]
     },
     "execution_count": 56,
     "metadata": {},
     "output_type": "execute_result"
    },
    {
     "data": {
      "image/png": "[encoded data removed]",
      "text/plain": [
       "<Figure size 576x576 with 1 Axes>"
      ]
     },
     "metadata": {
      "needs_background": "light"
     },
     "output_type": "display_data"
    }
   ],
   "source": [
    "fig, ax = plt.subplots(figsize=(8,8))\n",
    "ax.pcolormesh(left, right, loss_entropy - loss_gini)\n",
    "ax.set_xlabel(\"left\")\n",
    "ax.set_ylabel(\"right\")"
   ]
  },
  {
   "cell_type": "code",
   "execution_count": null,
   "metadata": {},
   "outputs": [],
   "source": []
  },
  {
   "cell_type": "code",
   "execution_count": null,
   "metadata": {},
   "outputs": [],
   "source": []
  },
  {
   "cell_type": "code",
   "execution_count": null,
   "metadata": {},
   "outputs": [],
   "source": []
  }
 ],
 "metadata": {
  "kernelspec": {
   "display_name": "Python 3",
   "language": "python",
   "name": "python3"
  },
  "language_info": {
   "codemirror_mode": {
    "name": "ipython",
    "version": 3
   },
   "file_extension": ".py",
   "mimetype": "text/x-python",
   "name": "python",
   "nbconvert_exporter": "python",
   "pygments_lexer": "ipython3",
   "version": "3.6.7"
  }
 },
 "nbformat": 4,
 "nbformat_minor": 2
}
