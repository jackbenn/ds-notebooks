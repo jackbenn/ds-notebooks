{
 "cells": [
  {
   "cell_type": "markdown",
   "metadata": {},
   "source": [
    "## Cross validation and related approaches"
   ]
  },
  {
   "cell_type": "markdown",
   "metadata": {},
   "source": [
    "Let's explore hold-out validation, cross validation, and various alternatives.\n",
    "\n",
    "Let's do a simple example with fake data"
   ]
  },
  {
   "cell_type": "code",
   "execution_count": 13,
   "metadata": {},
   "outputs": [],
   "source": [
    "import numpy as np\n",
    "from scipy import stats\n",
    "import matplotlib.pyplot as plt\n",
    "%matplotlib inline\n",
    "\n",
    "from sklearn.ensemble import RandomForestRegressor"
   ]
  },
  {
   "cell_type": "code",
   "execution_count": 11,
   "metadata": {},
   "outputs": [],
   "source": [
    "npts = 100\n",
    "X = np.zeros((npts, 3))\n",
    "X[:, 0] = stats.uniform(0, 1).rvs(npts)\n",
    "X[:, 1] = stats.uniform(0, 1).rvs(npts)\n",
    "X[:, 2] = stats.uniform(0, .8).rvs(npts) + 0.2 * X[:, 0]\n",
    "y = (np.sin(3*X[:, 0])\n",
    "     + X[:, 0]**2\n",
    "     - np.exp(X[:, 1])\n",
    "     + X[:, 1]\n",
    "     + np.cos(5*X[:, 0]+1))"
   ]
  },
  {
   "cell_type": "code",
   "execution_count": 12,
   "metadata": {},
   "outputs": [
    {
     "data": {
      "text/plain": [
       "array([-0.7794887 , -0.56007046,  0.65336401,  0.59494666,  0.35038417,\n",
       "       -0.56112925, -0.6451095 ,  0.85336579,  0.62006097, -0.35426259,\n",
       "       -0.15170143,  0.09865844,  0.26660319, -1.14005764, -0.62054146,\n",
       "       -1.01002532,  0.32349828, -0.54755377,  0.85042639, -0.38208531,\n",
       "       -1.08391024,  0.56659749, -0.19090528, -1.00495692, -0.84094464,\n",
       "       -0.87763896,  0.13057162, -1.04208125,  0.93242067, -1.02502263,\n",
       "       -0.62459573, -0.79278716, -0.96561938, -0.76280905, -0.14382201,\n",
       "       -0.45477465, -0.13051064,  0.33226129,  0.57956009, -1.11402543,\n",
       "        0.37621229, -0.8381543 ,  0.32164189,  1.09297247, -0.44598917,\n",
       "       -1.12056188, -1.10685524, -0.89165431, -1.21694181, -0.87720889,\n",
       "       -1.05459444,  0.84083884, -0.30504407, -0.78872139, -1.53508642,\n",
       "        0.4345807 , -0.93402927,  0.49005593, -1.59322725, -0.63833358,\n",
       "       -1.1206474 , -0.47361457,  0.02239105, -1.31204654, -0.89553595,\n",
       "       -0.82229521, -1.05884657, -0.93759902, -0.51629326, -0.99067463,\n",
       "       -0.94347475,  0.5767041 ,  0.72802188, -1.37928206, -1.23123469,\n",
       "       -0.87424643,  0.79819983, -0.97879872, -0.87621471, -1.11653471,\n",
       "       -1.3867745 ,  0.66213716,  0.3989605 , -0.11366658,  1.03483109,\n",
       "       -0.94940223,  0.80971492, -1.60946068, -1.10840982, -0.68742377,\n",
       "        0.6967995 , -1.27908491, -1.15621081, -1.24609689, -1.42456746,\n",
       "       -0.57283697, -0.63138015,  0.46183373,  0.310151  , -0.98468557])"
      ]
     },
     "execution_count": 12,
     "metadata": {},
     "output_type": "execute_result"
    }
   ],
   "source": [
    "y"
   ]
  },
  {
   "cell_type": "code",
   "execution_count": null,
   "metadata": {},
   "outputs": [],
   "source": [
    "model = RandomForestRegressor()\n"
   ]
  }
 ],
 "metadata": {
  "kernelspec": {
   "display_name": "Python 3",
   "language": "python",
   "name": "python3"
  },
  "language_info": {
   "codemirror_mode": {
    "name": "ipython",
    "version": 3
   },
   "file_extension": ".py",
   "mimetype": "text/x-python",
   "name": "python",
   "nbconvert_exporter": "python",
   "pygments_lexer": "ipython3",
   "version": "3.7.6"
  }
 },
 "nbformat": 4,
 "nbformat_minor": 4
}
