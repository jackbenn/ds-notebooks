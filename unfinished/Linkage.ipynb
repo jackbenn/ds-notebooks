{
 "cells": [
  {
   "cell_type": "markdown",
   "id": "brilliant-harbor",
   "metadata": {},
   "source": [
    "## Visualizing Linkage"
   ]
  },
  {
   "cell_type": "code",
   "execution_count": 12,
   "id": "subtle-basement",
   "metadata": {},
   "outputs": [],
   "source": [
    "import numpy as np\n",
    "from scipy import stats\n",
    "import matplotlib.pyplot as plt\n",
    "\n",
    "from sklearn.cluster import AgglomerativeClustering\n",
    "%matplotlib inline"
   ]
  },
  {
   "cell_type": "code",
   "execution_count": 9,
   "id": "bound-receipt",
   "metadata": {},
   "outputs": [],
   "source": [
    "npts = 10\n",
    "data = np.zeros((npts, 2))\n",
    "data[:, 0] = stats.uniform(0,3).rvs((npts))\n",
    "data[:, 1] = stats.uniform(0,2).rvs((npts))"
   ]
  },
  {
   "cell_type": "code",
   "execution_count": 23,
   "id": "fitting-banana",
   "metadata": {},
   "outputs": [
    {
     "data": {
      "text/plain": [
       "<matplotlib.collections.PathCollection at 0x7ff6dae4c550>"
      ]
     },
     "execution_count": 23,
     "metadata": {},
     "output_type": "execute_result"
    },
    {
     "data": {
      "image/png": "[encoded data removed]",
      "text/plain": [
       "<Figure size 432x288 with 1 Axes>"
      ]
     },
     "metadata": {
      "needs_background": "light"
     },
     "output_type": "display_data"
    }
   ],
   "source": [
    "fig, ax = plt.subplots(figsize=(6, 4))\n",
    "ax.scatter(data[:, 0], data[:, 1])"
   ]
  },
  {
   "cell_type": "code",
   "execution_count": 13,
   "id": "technological-omaha",
   "metadata": {},
   "outputs": [],
   "source": [
    "cl = AgglomerativeClustering()"
   ]
  },
  {
   "cell_type": "code",
   "execution_count": 14,
   "id": "checked-burke",
   "metadata": {},
   "outputs": [
    {
     "data": {
      "text/plain": [
       "AgglomerativeClustering()"
      ]
     },
     "execution_count": 14,
     "metadata": {},
     "output_type": "execute_result"
    }
   ],
   "source": [
    "cl.fit(data)"
   ]
  },
  {
   "cell_type": "code",
   "execution_count": 17,
   "id": "peripheral-strengthening",
   "metadata": {
    "scrolled": true
   },
   "outputs": [
    {
     "data": {
      "text/plain": [
       "array([[ 5,  7],\n",
       "       [ 4,  8],\n",
       "       [ 0,  2],\n",
       "       [ 1, 10],\n",
       "       [ 3,  6],\n",
       "       [ 9, 12],\n",
       "       [11, 13],\n",
       "       [14, 16],\n",
       "       [15, 17]])"
      ]
     },
     "execution_count": 17,
     "metadata": {},
     "output_type": "execute_result"
    }
   ],
   "source": [
    "cl.children_"
   ]
  },
  {
   "cell_type": "code",
   "execution_count": 25,
   "id": "italic-victim",
   "metadata": {},
   "outputs": [
    {
     "name": "stdout",
     "output_type": "stream",
     "text": [
      "[5 7]\n",
      "[4 8]\n",
      "[0 2]\n",
      "[3 6]\n"
     ]
    },
    {
     "data": {
      "image/png": "[encoded data removed]",
      "text/plain": [
       "<Figure size 432x288 with 1 Axes>"
      ]
     },
     "execution_count": 25,
     "metadata": {},
     "output_type": "execute_result"
    }
   ],
   "source": [
    "for pair in cl.children_:\n",
    "    if (pair < npts).all():\n",
    "        print(pair)\n",
    "        ax.plot(data[pair[0]], data[pair[1]], 'k')\n",
    "fig"
   ]
  },
  {
   "cell_type": "code",
   "execution_count": null,
   "id": "understanding-fantasy",
   "metadata": {},
   "outputs": [],
   "source": []
  }
 ],
 "metadata": {
  "kernelspec": {
   "display_name": "Python 3",
   "language": "python",
   "name": "python3"
  },
  "language_info": {
   "codemirror_mode": {
    "name": "ipython",
    "version": 3
   },
   "file_extension": ".py",
   "mimetype": "text/x-python",
   "name": "python",
   "nbconvert_exporter": "python",
   "pygments_lexer": "ipython3",
   "version": "3.7.7"
  }
 },
 "nbformat": 4,
 "nbformat_minor": 5
}
