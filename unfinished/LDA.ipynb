{
 "cells": [
  {
   "cell_type": "code",
   "execution_count": 1,
   "id": "incorporated-season",
   "metadata": {},
   "outputs": [],
   "source": [
    "import pandas as pd\n",
    "import numpy as np\n",
    "import matplotlib.pyplot as plt\n",
    "%matplotlib inline\n",
    "from scipy import stats"
   ]
  },
  {
   "cell_type": "markdown",
   "id": "coordinate-rescue",
   "metadata": {},
   "source": [
    "# Latent Dirichlet Allocation\n",
    "\n",
    "(not linear discriminant analysis)\n",
    "\n",
    "## Objectives\n",
    "\n",
    " * Explain how a corpus is created within the generative model in Latent Dirichlet Allocation.\n",
    " * Describe the Dirichlet distribution, and how it is used in Latent Dirichlet Allocation.\n",
    " * Interpret the matrices created with Latent Dirichlet Allocation.\n",
    " * Use sklearn to perform LDA topic modeling.\n",
    " * Compare and contrast LDA and NMF for topic modeling.\n",
    " * Use LDA to create recommendations.\n",
    "\n",
    "## Generative models\n",
    "\n",
    "For the most part in supervised learning we've talked about **discriminative models**, models that solve for $P(Y | X)$. A binary classifier, for example, will return a predicted Bernoulli distribution for any set of features (i.e. value of $X$). This is less clear in a regression model, but these can (at least in theory) return a distribution of predictions.\n",
    "\n",
    "A **generative model** returns a the joint probability $P(Y \\cap X)$. So our model produces  both the $X$ and the $Y$. The data in produces might look a little weird, but we can use that to get the conditional probability, which is usually what we care about. These models are generally parameterized; we'll look for the parameters *most likely* to have generated our data.\n",
    "\n",
    "We've talked about one generative model so far: naive bayes.\n",
    "\n",
    "**Discussion:** how does naive bayes work? What is multinomial naive bayes?\n",
    "\n",
    "LDA is different from multinomial NB in three important ways.\n",
    "\n",
    "First, LDA is **unsupervised learning**. We don't know the categories, instead we are trying to find the best categories for each document (along with the distribution of words in each category) to generate our data. This is a form of hard clustering, called a **multinomial mixture model**. People don't do this that much, though it's related to **gaussian mixture models** which are a thing.\n",
    "\n",
    "Second, in LDA each document is part of a combination of categories which we'll call **toopics**, rather than just being assigned to a single category, so it's a form of soft clustering.\n",
    "\n",
    "Third...we'll get to the third thing later (that's where Dirichlet comes in).\n",
    "\n",
    "## An Example\n",
    "\n",
    "In this case we imagine the generative model is just spitting out words to fill up each document. In reality there are syntactic constraints that organized the words, but we ignore all of that in this model. A document is just a bag of words.\n",
    "\n",
    "For LDA, each document is a combination of composed of a mix of various topics in different proportions, and a topic is composed of different words in different proportions.\n",
    "\n",
    "Let's imagine how this might work."
   ]
  },
  {
   "cell_type": "code",
   "execution_count": 2,
   "id": "stainless-roulette",
   "metadata": {},
   "outputs": [
    {
     "data": {
      "text/html": [
       "<div>\n",
       "<style scoped>\n",
       "    .dataframe tbody tr th:only-of-type {\n",
       "        vertical-align: middle;\n",
       "    }\n",
       "\n",
       "    .dataframe tbody tr th {\n",
       "        vertical-align: top;\n",
       "    }\n",
       "\n",
       "    .dataframe thead th {\n",
       "        text-align: right;\n",
       "    }\n",
       "</style>\n",
       "<table border=\"1\" class=\"dataframe\">\n",
       "  <thead>\n",
       "    <tr style=\"text-align: right;\">\n",
       "      <th></th>\n",
       "      <th>A</th>\n",
       "      <th>B</th>\n",
       "      <th>C</th>\n",
       "    </tr>\n",
       "  </thead>\n",
       "  <tbody>\n",
       "    <tr>\n",
       "      <th>space</th>\n",
       "      <td>0.3</td>\n",
       "      <td>0.1</td>\n",
       "      <td>0.1</td>\n",
       "    </tr>\n",
       "    <tr>\n",
       "      <th>gun</th>\n",
       "      <td>0.2</td>\n",
       "      <td>0.4</td>\n",
       "      <td>0.0</td>\n",
       "    </tr>\n",
       "    <tr>\n",
       "      <th>fly</th>\n",
       "      <td>0.3</td>\n",
       "      <td>0.1</td>\n",
       "      <td>0.1</td>\n",
       "    </tr>\n",
       "    <tr>\n",
       "      <th>horse</th>\n",
       "      <td>0.0</td>\n",
       "      <td>0.3</td>\n",
       "      <td>0.1</td>\n",
       "    </tr>\n",
       "    <tr>\n",
       "      <th>love</th>\n",
       "      <td>0.0</td>\n",
       "      <td>0.1</td>\n",
       "      <td>0.3</td>\n",
       "    </tr>\n",
       "    <tr>\n",
       "      <th>dream</th>\n",
       "      <td>0.1</td>\n",
       "      <td>0.0</td>\n",
       "      <td>0.2</td>\n",
       "    </tr>\n",
       "    <tr>\n",
       "      <th>magic</th>\n",
       "      <td>0.1</td>\n",
       "      <td>0.0</td>\n",
       "      <td>0.2</td>\n",
       "    </tr>\n",
       "  </tbody>\n",
       "</table>\n",
       "</div>"
      ],
      "text/plain": [
       "         A    B    C\n",
       "space  0.3  0.1  0.1\n",
       "gun    0.2  0.4  0.0\n",
       "fly    0.3  0.1  0.1\n",
       "horse  0.0  0.3  0.1\n",
       "love   0.0  0.1  0.3\n",
       "dream  0.1  0.0  0.2\n",
       "magic  0.1  0.0  0.2"
      ]
     },
     "execution_count": 2,
     "metadata": {},
     "output_type": "execute_result"
    }
   ],
   "source": [
    "topic_words = pd.DataFrame([[0.3, 0.1, 0.1],\n",
    "                            [0.2, 0.4, 0.0],\n",
    "                            [0.3, 0.1, 0.1],\n",
    "                            [0.0, 0.3, 0.1],\n",
    "                            [0.0, 0.1, 0.3],\n",
    "                            [0.1, 0.0, 0.2],\n",
    "                            [0.1, 0.0, 0.2]],\n",
    "                           columns=['A', 'B', 'C'],\n",
    "                           index=['space', 'gun', 'fly', 'horse', 'love', 'dream', 'magic'])\n",
    "topic_words"
   ]
  },
  {
   "cell_type": "code",
   "execution_count": 3,
   "id": "ruled-louisville",
   "metadata": {},
   "outputs": [
    {
     "data": {
      "text/html": [
       "<div>\n",
       "<style scoped>\n",
       "    .dataframe tbody tr th:only-of-type {\n",
       "        vertical-align: middle;\n",
       "    }\n",
       "\n",
       "    .dataframe tbody tr th {\n",
       "        vertical-align: top;\n",
       "    }\n",
       "\n",
       "    .dataframe thead th {\n",
       "        text-align: right;\n",
       "    }\n",
       "</style>\n",
       "<table border=\"1\" class=\"dataframe\">\n",
       "  <thead>\n",
       "    <tr style=\"text-align: right;\">\n",
       "      <th></th>\n",
       "      <th>Aliens</th>\n",
       "      <th>Serenity</th>\n",
       "      <th>The Fifth Element</th>\n",
       "      <th>The Unforgiven</th>\n",
       "    </tr>\n",
       "  </thead>\n",
       "  <tbody>\n",
       "    <tr>\n",
       "      <th>A</th>\n",
       "      <td>0.9</td>\n",
       "      <td>0.4</td>\n",
       "      <td>0.4</td>\n",
       "      <td>0.0</td>\n",
       "    </tr>\n",
       "    <tr>\n",
       "      <th>B</th>\n",
       "      <td>0.0</td>\n",
       "      <td>0.4</td>\n",
       "      <td>0.2</td>\n",
       "      <td>0.5</td>\n",
       "    </tr>\n",
       "    <tr>\n",
       "      <th>C</th>\n",
       "      <td>0.1</td>\n",
       "      <td>0.2</td>\n",
       "      <td>0.4</td>\n",
       "      <td>0.5</td>\n",
       "    </tr>\n",
       "  </tbody>\n",
       "</table>\n",
       "</div>"
      ],
      "text/plain": [
       "   Aliens  Serenity  The Fifth Element  The Unforgiven\n",
       "A     0.9       0.4                0.4             0.0\n",
       "B     0.0       0.4                0.2             0.5\n",
       "C     0.1       0.2                0.4             0.5"
      ]
     },
     "execution_count": 3,
     "metadata": {},
     "output_type": "execute_result"
    }
   ],
   "source": [
    "document_topics = pd.DataFrame([[0.9, 0.4, 0.4, 0.0],\n",
    "                                [0.0, 0.4, 0.2, 0.5],\n",
    "                                [0.1, 0.2, 0.4, 0.5]],\n",
    "                               columns=['Aliens', 'Serenity', 'The Fifth Element', 'The Unforgiven'],\n",
    "                               index=['A', 'B', 'C'])\n",
    "document_topics"
   ]
  },
  {
   "cell_type": "code",
   "execution_count": 4,
   "id": "stable-ceremony",
   "metadata": {},
   "outputs": [
    {
     "name": "stdout",
     "output_type": "stream",
     "text": [
      "Document: Aliens\n",
      "magic horse fly love gun dream space dream space space gun fly space space gun \n",
      "\n",
      "Document: Serenity\n",
      "love love fly love love gun fly gun fly gun horse love horse gun love \n",
      "\n",
      "Document: The Fifth Element\n",
      "fly fly dream gun fly gun fly love space magic fly magic fly magic space \n",
      "\n",
      "Document: The Unforgiven\n",
      "gun horse fly dream horse gun horse dream space dream gun love horse gun fly \n",
      "\n"
     ]
    }
   ],
   "source": [
    "for document in document_topics.columns:\n",
    "    print(f\"Document: {document}\")\n",
    "    # for each word to be generated...\n",
    "    for w in range(15):\n",
    "        # ...chooose a topic for that document...\n",
    "        topic = np.random.choice(document_topics.index,\n",
    "                                 p=document_topics[document])\n",
    "        # ...and a word for that topic.\n",
    "        word = np.random.choice(topic_words.index,\n",
    "                                p=topic_words[topic])\n",
    "        print(word+\" \", end='')\n",
    "    print()\n",
    "    print()"
   ]
  },
  {
   "cell_type": "markdown",
   "id": "northern-means",
   "metadata": {},
   "source": [
    "They probably won't win any awards."
   ]
  },
  {
   "cell_type": "markdown",
   "id": "stone-huntington",
   "metadata": {},
   "source": [
    "What we're looking for is the matrices *most likely* to generate our data.\n",
    "\n",
    "But we have a few hyperparameters to talk about.\n",
    "\n",
    "First, like NMF, SVD, and KMeans, we need to choose a number of topics. That's a pretty similar process to before.\n",
    "\n",
    "Second (and this is where we get the name): the distribution of topic in documents, and the distribution of words in each topic, are not completely arbitrary. Rather, we assume (in the same way we assumed the words were generated from this model) that the distributions are taken from a **symmetric Dirichlet distribution.**"
   ]
  },
  {
   "cell_type": "markdown",
   "id": "funded-background",
   "metadata": {},
   "source": [
    "### The Dirichlet distribution\n",
    "\n",
    "The Dirichlet distribution is the multinomial equivalent of a Beta distribution.\n",
    "\n",
    "Recall the Beta distribution returns numbers between 0 and 1."
   ]
  },
  {
   "cell_type": "code",
   "execution_count": 5,
   "id": "grand-trademark",
   "metadata": {},
   "outputs": [
    {
     "data": {
      "image/png": "[encoded data removed]",
      "text/plain": [
       "<Figure size 648x360 with 1 Axes>"
      ]
     },
     "metadata": {
      "needs_background": "light"
     },
     "output_type": "display_data"
    }
   ],
   "source": [
    "fig, ax = plt.subplots(figsize=(9, 5))\n",
    "xpts = np.linspace(0, 1, 100)\n",
    "for alpha, beta in [(1, 1), (2, 1), (3, 1), (2, 2), (5, 3)]:\n",
    "    ax.plot(xpts, stats.beta(alpha, beta).pdf(xpts),\n",
    "            label=f\"$\\\\alpha={alpha}\\\\ \\\\beta={beta}$\")\n",
    "ax.set_ylabel('pdf')\n",
    "ax.set_xlabel('p')\n",
    "ax.legend();"
   ]
  },
  {
   "cell_type": "markdown",
   "id": "nearby-evans",
   "metadata": {},
   "source": [
    "To simplify the problem, we only consider *symmetric* Beta distributions, those for which $\\alpha = \\beta$."
   ]
  },
  {
   "cell_type": "code",
   "execution_count": 6,
   "id": "later-england",
   "metadata": {},
   "outputs": [
    {
     "data": {
      "image/png": "[encoded data removed]",
      "text/plain": [
       "<Figure size 648x360 with 1 Axes>"
      ]
     },
     "metadata": {
      "needs_background": "light"
     },
     "output_type": "display_data"
    }
   ],
   "source": [
    "fig, ax = plt.subplots(figsize=(9, 5))\n",
    "xpts = np.linspace(0, 1, 100)\n",
    "for alpha, beta in [(0.25, 0.25),\n",
    "                    (0.5, 0.5),\n",
    "                    (1, 1), (2, 2),\n",
    "                    (4, 4), (8, 8)]:\n",
    "    ax.plot(xpts, stats.beta(alpha, beta).pdf(xpts),\n",
    "            label=f\"$\\\\alpha={alpha}\\\\ \\\\beta={beta}$\")\n",
    "ax.set_ylabel('pdf')\n",
    "ax.set_xlabel('p')\n",
    "ax.legend();"
   ]
  },
  {
   "cell_type": "markdown",
   "id": "matched-sense",
   "metadata": {},
   "source": [
    "If we imagine the Beta distribution gives us probabilities between two options, a Dirichlet distribution returns probabilities between more choices.\n",
    "\n",
    "Here are a few Dirichlet distributions returning probabilities between three options.\n",
    "\n",
    "<img src=\"https://upload.wikimedia.org/wikipedia/commons/3/3e/Dirichlet_distributions.png\" alt=\"various 3-category Dirichlet distributions\" width=500 height=200 />"
   ]
  },
  {
   "cell_type": "markdown",
   "id": "optimum-structure",
   "metadata": {},
   "source": [
    "Here's the range of symmetric distributions, again for three options.\n",
    "\n",
    "<img src=\"https://upload.wikimedia.org/wikipedia/commons/5/54/LogDirichletDensity-alpha_0.3_to_alpha_2.0.gif\" alt=\"an animation of the range of 3-categoy symmetric Dirichlet distributions\" />"
   ]
  },
  {
   "cell_type": "markdown",
   "id": "optimum-current",
   "metadata": {},
   "source": [
    "In our model, we will assume that the probabilities of the document-topic distributions, and the probabilities of the topic-word distribution, are each drawn from symmetric Dirichlet distributions.\n",
    "\n",
    "Each of those two symmetric Dirichlet distributions is described by a single (hyper)parameter. These govern how evenly each document is composed of topics, or each topic of words.\n",
    "\n",
    "For example, if the topic-word hyperparameter is very large, then all words are pretty equally represented in each topic. If it's very small, each topic is dominated by a few words."
   ]
  },
  {
   "cell_type": "markdown",
   "id": "collected-sheriff",
   "metadata": {},
   "source": [
    "## Fitting the model\n",
    "\n",
    "LDA is fit using an **expectation-maximization algorithm**. A simple example of such an algorithm is used in KMeans, in which we alternately choose and allocation of points to clusters (the latent variables), and then find the best cluster for the points.\n",
    "\n",
    "In this case our latent variables are the probability each word in the training data comes from each a given topic. We start with randomly assigning an allocation, then finding the best mappings to fit that allocation, then reassign the allocation of words to topics, back and forth until we converge.\n"
   ]
  },
  {
   "cell_type": "markdown",
   "id": "exposed-increase",
   "metadata": {},
   "source": [
    "## Topic modeling\n",
    "\n",
    "LDA is generally used for topic modeling, for discovering patterns with in our data. This might be part of EDA, or might be used to create additional features.\n",
    "\n",
    "This has a lot of similarities to using NMF for topic modeling on a document as we talked about recently. In both cases, we take a single matrix (between documents and words) and turn it into two matrices (between documents and topics, and between topics and words) that when multiplied together, will return something like the original document.\n",
    "\n",
    "There are significant differences in the original matrix, how the component matrices are created, and what they represent.\n",
    "\n",
    "method | NMF | LDA\n",
    "---------|---|-----\n",
    "original matrix | TF-IDF | Bag of words\n",
    "hyperparameters | # of topics | # number of topics, Dirichlet parameters\n",
    "fitting method | ALS or SGD | EM\n",
    "optimizes | RMSE | probability of generating words"
   ]
  },
  {
   "cell_type": "markdown",
   "id": "virgin-travel",
   "metadata": {},
   "source": [
    "## LDA in sklearn\n",
    "\n",
    "Let's see how this can be used in topic modeling, with an `sklearn` dataset."
   ]
  },
  {
   "cell_type": "code",
   "execution_count": 7,
   "id": "accredited-collector",
   "metadata": {},
   "outputs": [],
   "source": [
    "from sklearn.datasets import fetch_20newsgroups\n",
    "from sklearn.feature_extraction.text import CountVectorizer\n",
    "from sklearn.decomposition import LatentDirichletAllocation"
   ]
  },
  {
   "cell_type": "code",
   "execution_count": 8,
   "id": "atlantic-saturday",
   "metadata": {},
   "outputs": [
    {
     "name": "stdout",
     "output_type": "stream",
     "text": [
      "\n",
      "OK, I've asked this before, and with a new thread on these lines, I\n",
      "ask this again:\n",
      "\n",
      "1: If a large hole current is run thru a resistor, will there be\n",
      "   I^2 * R cooling instead of heating?\n",
      "\n",
      "2: Can anyone design an amplifier that preferentially amplifies\n",
      "   hole currents over normal electron currents?\n",
      "\n",
      "3: what semiconductor materials have the highest ratio of\n",
      "   hole mobility to electron mobility? (please quote actual\n",
      "   test samples rather than estimates based on theory. Also,\n",
      "   don't be limit\n"
     ]
    }
   ],
   "source": [
    "dataset = fetch_20newsgroups(shuffle=True, random_state=1, remove=('headers', 'footers', 'quotes'))\n",
    "documents = dataset.data\n",
    "print(documents[42][:500])"
   ]
  },
  {
   "cell_type": "markdown",
   "id": "motivated-tractor",
   "metadata": {},
   "source": [
    "With LDA we use a `CountVectorizer` rather than TF-IDF, since we have a model in which we count words."
   ]
  },
  {
   "cell_type": "code",
   "execution_count": 9,
   "id": "biological-cardiff",
   "metadata": {},
   "outputs": [
    {
     "data": {
      "text/plain": [
       "<11314x1000 sparse matrix of type '<class 'numpy.int64'>'\n",
       "\twith 286231 stored elements in Compressed Sparse Row format>"
      ]
     },
     "execution_count": 9,
     "metadata": {},
     "output_type": "execute_result"
    }
   ],
   "source": [
    "num_features = 1000\n",
    "\n",
    "tf_vectorizer = CountVectorizer(max_df=0.95,\n",
    "                                min_df=2,\n",
    "                                max_features=num_features,\n",
    "                                stop_words='english')\n",
    "tf = tf_vectorizer.fit_transform(documents)\n",
    "tf_feature_names = tf_vectorizer.get_feature_names() # theses are the words in our bag of words\n",
    "tf"
   ]
  },
  {
   "cell_type": "markdown",
   "id": "plastic-ordering",
   "metadata": {},
   "source": [
    "We now create and fit an LDA model, using 10 topics. We'll leave the priors at the default."
   ]
  },
  {
   "cell_type": "code",
   "execution_count": 10,
   "id": "meaningful-invite",
   "metadata": {},
   "outputs": [
    {
     "data": {
      "text/plain": [
       "LatentDirichletAllocation(learning_method='online', max_iter=5, n_jobs=-1,\n",
       "                          random_state=0)"
      ]
     },
     "execution_count": 10,
     "metadata": {},
     "output_type": "execute_result"
    }
   ],
   "source": [
    "num_topics = 10\n",
    "\n",
    "lda = LatentDirichletAllocation(n_components=num_topics,\n",
    "                                max_iter=5,\n",
    "                                learning_method='online',\n",
    "                                random_state=0,\n",
    "                                n_jobs=-1)\n",
    "lda.fit(tf)"
   ]
  },
  {
   "cell_type": "raw",
   "id": "selected-cooperation",
   "metadata": {},
   "source": [
    "Here are our two component matrices. We get at them the same way we did with NMF."
   ]
  },
  {
   "cell_type": "code",
   "execution_count": 11,
   "id": "concerned-burton",
   "metadata": {},
   "outputs": [
    {
     "data": {
      "text/plain": [
       "(11314, 10)"
      ]
     },
     "execution_count": 11,
     "metadata": {},
     "output_type": "execute_result"
    }
   ],
   "source": [
    "lda.transform(tf).shape"
   ]
  },
  {
   "cell_type": "code",
   "execution_count": 12,
   "id": "introductory-street",
   "metadata": {},
   "outputs": [
    {
     "data": {
      "text/plain": [
       "(10, 1000)"
      ]
     },
     "execution_count": 12,
     "metadata": {},
     "output_type": "execute_result"
    }
   ],
   "source": [
    "lda.components_.shape"
   ]
  },
  {
   "cell_type": "markdown",
   "id": "representative-patent",
   "metadata": {},
   "source": [
    "We can see what these topics look like. Do these make sense? "
   ]
  },
  {
   "cell_type": "code",
   "execution_count": 13,
   "id": "superb-extreme",
   "metadata": {},
   "outputs": [
    {
     "name": "stdout",
     "output_type": "stream",
     "text": [
      "Topic 0:\n",
      "people government gun armenian said armenians states war israel state turkish jews\n",
      "Topic 1:\n",
      "people don like point right make know think use just question time\n",
      "Topic 2:\n",
      "space program db output data entry nasa use build line science value\n",
      "Topic 3:\n",
      "key encryption chip government use keys public clipper security law bike privacy\n",
      "Topic 4:\n",
      "edu file com available information mail ftp files list send image email\n",
      "Topic 5:\n",
      "god people jesus does believe say think christian bible true life church\n",
      "Topic 6:\n",
      "windows use drive thanks does card problem like know using dos scsi\n",
      "Topic 7:\n",
      "ax max b8f g9v a86 pl 145 1d9 0t 34u 1t 3t\n",
      "Topic 8:\n",
      "just don like think know good time didn going ve ll got\n",
      "Topic 9:\n",
      "10 00 20 15 25 12 14 11 17 16 30 13\n"
     ]
    }
   ],
   "source": [
    "def display_topics(model, feature_names, num_top_words):\n",
    "    for topic_idx, topic in enumerate(model.components_):\n",
    "        print(\"Topic %d:\" % (topic_idx))\n",
    "        print(\" \".join([feature_names[i]\n",
    "                        for i in topic.argsort()[:-num_top_words - 1:-1]]))\n",
    "\n",
    "num_top_words = 12\n",
    "display_topics(lda, tf_feature_names, num_top_words)"
   ]
  },
  {
   "cell_type": "code",
   "execution_count": null,
   "id": "stunning-pixel",
   "metadata": {},
   "outputs": [],
   "source": []
  },
  {
   "cell_type": "code",
   "execution_count": null,
   "id": "fresh-spectrum",
   "metadata": {},
   "outputs": [],
   "source": []
  }
 ],
 "metadata": {
  "kernelspec": {
   "display_name": "Python 3",
   "language": "python",
   "name": "python3"
  },
  "language_info": {
   "codemirror_mode": {
    "name": "ipython",
    "version": 3
   },
   "file_extension": ".py",
   "mimetype": "text/x-python",
   "name": "python",
   "nbconvert_exporter": "python",
   "pygments_lexer": "ipython3",
   "version": "3.9.1"
  }
 },
 "nbformat": 4,
 "nbformat_minor": 5
}
