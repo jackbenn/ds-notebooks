{
 "cells": [
  {
   "cell_type": "markdown",
   "metadata": {},
   "source": [
    "## Estimating a Uniform Distribution\n",
    "\n",
    "Suppose we have a distribution of the form `U(0, m)`, where m is unknown. We draw n values from it and try to estimate m."
   ]
  },
  {
   "cell_type": "markdown",
   "metadata": {},
   "source": [
    "The MLE distribution is straightforward: choose `m` to be the largest value. This is biased; it's almost always smaller than the actual value. A better approach might be Bayesian, and then take the expectation value.\n",
    "\n",
    "We want to figure out the if the Bayesian expectation value is unbiased, and the prior that will make it so (a uniform prior? a Jeffries?)"
   ]
  },
  {
   "cell_type": "markdown",
   "metadata": {},
   "source": [
    "In general, the PDF of a Pareto distribution is\n",
    "\n",
    "$$\n",
    "\\begin{cases} \n",
    "    \\frac{\\alpha x_m^\\alpha}{x^{\\alpha + 1}} & x\\geq x_m \\\\\n",
    "    0 & x \\lt x_m\n",
    "\\end{cases}\n",
    "$$\n",
    "\n",
    "and the mean is $x_m \\frac{\\alpha}{\\alpha-1}$ (for $\\alpha > 1$).\n",
    "\n",
    "Let's assume 3 points for now. So if we have a prior of $\\alpha = a$, the posterior is $\\alpha = a + 3$, and the mean is $x_m \\frac{a+3}{a+2}$.\n",
    "\n",
    "Let's simulate this. "
   ]
  },
  {
   "cell_type": "code",
   "execution_count": 1,
   "metadata": {
    "collapsed": true
   },
   "outputs": [],
   "source": [
    "from scipy import stats\n",
    "import numpy as np"
   ]
  },
  {
   "cell_type": "markdown",
   "metadata": {},
   "source": [
    "We'll try a prior of $\\alpha = 1$ and see if the mean values are, on average, the actual result. \n",
    "\n",
    "First we generate a bunch of samples from $U(0, 1)$."
   ]
  },
  {
   "cell_type": "code",
   "execution_count": 2,
   "metadata": {
    "collapsed": true
   },
   "outputs": [],
   "source": [
    "a = 1\n",
    "npts = 5\n",
    "nsamples = 1000000\n",
    "samples = stats.uniform(0, 1).rvs((nsamples, npts))"
   ]
  },
  {
   "cell_type": "markdown",
   "metadata": {},
   "source": [
    "Then we look at the mean value for the posterior and see if it's the same value for the actual maximum."
   ]
  },
  {
   "cell_type": "code",
   "execution_count": 3,
   "metadata": {},
   "outputs": [
    {
     "data": {
      "text/plain": [
       "1.0000031944331265"
      ]
     },
     "execution_count": 3,
     "metadata": {},
     "output_type": "execute_result"
    }
   ],
   "source": [
    "alpha = a + npts\n",
    "means = samples.max(axis=1) * alpha/(alpha-1)\n",
    "means.mean()"
   ]
  },
  {
   "cell_type": "markdown",
   "metadata": {},
   "source": [
    "So it looks as if you get unbiased results if the prior is a Pareto distribution with $\\alpha  = 1$, which is the same as the Jeffries prior.\n",
    "\n",
    "So the short answer is, if you have $n$ points, you might estimate the upper bound as the maximum point times $\\frac{n+1}{n}$."
   ]
  }
 ],
 "metadata": {
  "kernelspec": {
   "display_name": "Python 3",
   "language": "python",
   "name": "python3"
  },
  "language_info": {
   "codemirror_mode": {
    "name": "ipython",
    "version": 3
   },
   "file_extension": ".py",
   "mimetype": "text/x-python",
   "name": "python",
   "nbconvert_exporter": "python",
   "pygments_lexer": "ipython3",
   "version": "3.6.6"
  }
 },
 "nbformat": 4,
 "nbformat_minor": 2
}
