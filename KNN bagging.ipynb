{
 "cells": [
  {
   "cell_type": "markdown",
   "metadata": {},
   "source": [
    "## kNN and bagging"
   ]
  },
  {
   "cell_type": "markdown",
   "metadata": {},
   "source": [
    "**Question:** suppose we use kNN with bootstrap aggregation. What's the distribution of occurrences for various neighbors?\n",
    "\n",
    "This might be used to decide the \"appropriate\" weights for a softer version of kNN.\n",
    "\n",
    "Let's use $i$ to label the points in order of distance, so $i=0$ is the closest point, $i=1$ is the next, etc.\n",
    "If k = 1, the occurrence of the closest point will be distributed as\n",
    "\n",
    "i  | prob 1st in bootstrap\n",
    "---|---\n",
    "0  | $1-\\frac{1}{e}$ \n",
    "1 | $\\frac{1}{e}-\\frac{1}{e^2}$\n",
    "2 | $\\frac{1}{e^2}-\\frac{1}{e^3}$\n",
    "\n",
    "How many copies of each one are in the bootstrap (assuming a large number of points)?\n",
    "\n",
    "n  | prob of that many copies of a given point\n",
    "---|-------\n",
    "0  | $\\frac{1}{e}$\n",
    "1 | $\\frac{1}{e}-\\frac{1}{e^2}$\n",
    "2 | $\\frac{1}{e^2}-\\frac{1}{e^3}$"
   ]
  },
  {
   "cell_type": "code",
   "execution_count": 1,
   "metadata": {
    "collapsed": true
   },
   "outputs": [],
   "source": [
    "import matplotlib.pyplot as plt\n",
    "%matplotlib inline\n",
    "import numpy as np\n",
    "from scipy import stats\n",
    "from collections import Counter"
   ]
  },
  {
   "cell_type": "code",
   "execution_count": 2,
   "metadata": {
    "collapsed": true
   },
   "outputs": [],
   "source": [
    "def knn_bootstrap_density(m, n, k=1):\n",
    "    '''Return probability that the mth closest point will occur n times\n",
    "    in a bootstrap sample for some k'''\n",
    "    # this is hard"
   ]
  },
  {
   "cell_type": "markdown",
   "metadata": {},
   "source": [
    "Let's simulate."
   ]
  },
  {
   "cell_type": "code",
   "execution_count": 3,
   "metadata": {
    "collapsed": true
   },
   "outputs": [],
   "source": [
    "def simulate_knn_bootstrap(k, trials=10000):\n",
    "    counter = Counter()\n",
    "    for _ in range(trials):\n",
    "        m = 0  # mth closest point\n",
    "        choices = []\n",
    "        while True:\n",
    "            picks = stats.poisson(1).rvs()\n",
    "            if len(choices) + picks > k:\n",
    "                picks = k - len(choices)\n",
    "            choices.extend([m] * picks)\n",
    "            if len(choices) == k:\n",
    "                counter[tuple(choices)] += 1\n",
    "                break\n",
    "            m += 1\n",
    "    return counter"
   ]
  },
  {
   "cell_type": "code",
   "execution_count": 4,
   "metadata": {
    "collapsed": true
   },
   "outputs": [],
   "source": [
    "def simulate_expected_knn_probabilities(k, trials=10000):\n",
    "    counter = simulate_knn_bootstrap(k, trials)\n",
    "    totals = Counter()\n",
    "    for simulation, count in counter.items():\n",
    "        for number in simulation:\n",
    "            totals[number] += count\n",
    "    expectation = np.zeros(max(totals)+1)\n",
    "    for occurances in totals:\n",
    "        expectation[occurances] = totals[occurances]\n",
    "    expectation /= trials\n",
    "    return expectation"
   ]
  },
  {
   "cell_type": "code",
   "execution_count": 5,
   "metadata": {
    "scrolled": false
   },
   "outputs": [
    {
     "data": {
      "text/plain": [
       "<BarContainer object of 6 artists>"
      ]
     },
     "execution_count": 5,
     "metadata": {},
     "output_type": "execute_result"
    },
    {
     "data": {
      "image/png": "[encoded data removed]",
      "text/plain": [
       "<Figure size 432x288 with 1 Axes>"
      ]
     },
     "metadata": {},
     "output_type": "display_data"
    }
   ],
   "source": [
    "fig, ax = plt.subplots()\n",
    "expectation = simulate_expected_knn_probabilities(1, 1000)\n",
    "ax.bar(range(len(expectation)), expectation)"
   ]
  },
  {
   "cell_type": "code",
   "execution_count": 7,
   "metadata": {},
   "outputs": [
    {
     "data": {
      "text/plain": [
       "<BarContainer object of 20 artists>"
      ]
     },
     "execution_count": 7,
     "metadata": {},
     "output_type": "execute_result"
    },
    {
     "data": {
      "image/png": "[encoded data removed]",
      "text/plain": [
       "<Figure size 432x288 with 1 Axes>"
      ]
     },
     "metadata": {},
     "output_type": "display_data"
    }
   ],
   "source": [
    "fig, ax = plt.subplots()\n",
    "expectation = simulate_expected_knn_probabilities(7, 1000)\n",
    "ax.bar(range(len(expectation)), expectation)"
   ]
  },
  {
   "cell_type": "markdown",
   "metadata": {},
   "source": [
    "I wonder if this is a common distribution (if we divide by k). For k=1, that should be geometric."
   ]
  },
  {
   "cell_type": "code",
   "execution_count": null,
   "metadata": {
    "collapsed": true
   },
   "outputs": [],
   "source": []
  }
 ],
 "metadata": {
  "kernelspec": {
   "display_name": "Python 3",
   "language": "python",
   "name": "python3"
  },
  "language_info": {
   "codemirror_mode": {
    "name": "ipython",
    "version": 3
   },
   "file_extension": ".py",
   "mimetype": "text/x-python",
   "name": "python",
   "nbconvert_exporter": "python",
   "pygments_lexer": "ipython3",
   "version": "3.6.6"
  }
 },
 "nbformat": 4,
 "nbformat_minor": 2
}
