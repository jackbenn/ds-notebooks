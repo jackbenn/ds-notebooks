{
 "cells": [
  {
   "cell_type": "markdown",
   "metadata": {
    "collapsed": true
   },
   "source": [
    "## Experimenting with t distribution"
   ]
  },
  {
   "cell_type": "code",
   "execution_count": 220,
   "metadata": {
    "collapsed": true
   },
   "outputs": [],
   "source": [
    "from scipy import stats\n",
    "%matplotlib inline"
   ]
  },
  {
   "cell_type": "code",
   "execution_count": 326,
   "metadata": {
    "collapsed": true
   },
   "outputs": [],
   "source": [
    "n_samples = 100000\n",
    "n_draws = 5\n",
    "samples = stats.norm(0, 3).rvs((n_draws, n_samples))"
   ]
  },
  {
   "cell_type": "code",
   "execution_count": 327,
   "metadata": {},
   "outputs": [],
   "source": [
    "means = samples.mean(axis=0)\n",
    "stds = samples.std(axis=0, ddof=1)"
   ]
  },
  {
   "cell_type": "code",
   "execution_count": 328,
   "metadata": {},
   "outputs": [],
   "source": [
    "means *= n_draws ** 0.5 / stds "
   ]
  },
  {
   "cell_type": "code",
   "execution_count": 329,
   "metadata": {},
   "outputs": [
    {
     "data": {
      "image/png": "[encoded data removed]",
      "text/plain": [
       "<matplotlib.figure.Figure at 0x10d869b00>"
      ]
     },
     "metadata": {},
     "output_type": "display_data"
    }
   ],
   "source": [
    "lims=(-15, 15)\n",
    "fig, ax = plt.subplots(figsize=(10,6))\n",
    "xpts = np.linspace(*lims, 500)\n",
    "ax.hist(means, normed=True, bins=np.arange(-30, 30, 0.1), alpha=0.4)\n",
    "ax.plot(xpts, stats.t(n_draws - 1).pdf(xpts))\n",
    "ax.plot(xpts, stats.norm(0, 1).pdf(xpts))\n",
    "ax.set_xlim(*lims)\n",
    "ax.set_ylim(0.000001, 1.0)\n",
    "ax.set_yscale('log')"
   ]
  },
  {
   "cell_type": "code",
   "execution_count": 275,
   "metadata": {},
   "outputs": [
    {
     "data": {
      "text/plain": [
       "(-15.328504532080952, 12.023767967715711)"
      ]
     },
     "execution_count": 275,
     "metadata": {},
     "output_type": "execute_result"
    }
   ],
   "source": [
    "means.min(), means.max()"
   ]
  },
  {
   "cell_type": "code",
   "execution_count": 198,
   "metadata": {},
   "outputs": [
    {
     "data": {
      "text/plain": [
       "inf"
      ]
     },
     "execution_count": 198,
     "metadata": {},
     "output_type": "execute_result"
    }
   ],
   "source": [
    "stats.t(1).var()"
   ]
  },
  {
   "cell_type": "code",
   "execution_count": 247,
   "metadata": {},
   "outputs": [
    {
     "data": {
      "text/plain": [
       "array([  5.52094836e-88,   8.24123698e-88,   1.22969301e-87,\n",
       "         1.83411513e-87,   2.73452605e-87,   4.07533321e-87,\n",
       "         6.07113328e-87,   9.04069871e-87,   1.34573581e-86,\n",
       "         2.00236483e-86,   2.97818858e-86,   4.42778743e-86,\n",
       "         6.58031855e-86,   9.77535771e-86,   1.45159005e-85,\n",
       "         2.15467064e-85,   3.19700555e-85,   4.74167159e-85,\n",
       "         7.02983510e-85,   1.04180009e-84,   1.54329599e-84,\n",
       "         2.28528121e-84,   3.38263903e-84,   5.00492125e-84,\n",
       "         7.40226156e-84,   1.09435239e-83,   1.61724396e-83,\n",
       "         2.38901827e-83,   3.52767844e-83,   5.20695824e-83,\n",
       "         7.68253919e-83,   1.13305518e-82,   1.67040937e-82,\n",
       "         2.46161633e-82,   3.62613020e-82,   5.33939450e-82,\n",
       "         7.85898049e-82,   1.15628794e-81,   1.70055768e-81,\n",
       "         2.50001333e-81,   3.67382839e-81,   5.39660950e-81,\n",
       "         7.92407734e-81,   1.16305969e-80,   1.70640017e-80,\n",
       "         2.50256493e-80,   3.66872710e-80,   5.37614590e-80,\n",
       "         7.87503096e-80,   1.15307904e-79,   1.68768532e-79,\n",
       "         2.46916125e-79,   3.61104597e-79,   5.27888459e-79,\n",
       "         7.71395148e-79,   1.12677505e-78,   1.64521677e-78,\n",
       "         2.40123475e-78,   3.50325456e-78,   5.10898182e-78,\n",
       "         7.44770737e-78,   1.08526660e-77,   1.58079609e-77,\n",
       "         2.30165833e-77,   3.34989692e-77,   4.87357458e-77,\n",
       "         7.08743967e-77,   1.03028344e-76,   1.49709599e-76,\n",
       "         2.17454381e-76,   3.15727391e-76,   4.58228339e-76,\n",
       "         6.64778881e-76,   9.64046693e-76,   1.39747649e-75,\n",
       "         2.02496040e-75,   2.93301407e-75,   4.24656075e-75,\n",
       "         6.14590896e-75,   8.89120225e-75,   1.28576157e-74,\n",
       "         1.85860019e-74,   2.68557385e-74,   3.87894666e-74,\n",
       "         5.60036200e-74,   8.08246770e-74,   1.16599702e-73,\n",
       "         1.68142109e-73,   2.42371261e-73,   3.49229837e-73,\n",
       "         5.02999028e-73,   7.24183350e-73,   1.04221066e-72,\n",
       "         1.49929837e-72,   2.15598738e-72,   3.09905972e-72,\n",
       "         4.45286225e-72,   6.39549497e-72,   9.18194417e-72,\n",
       "         1.31771266e-71,   1.89030714e-71,   2.71062611e-71,\n",
       "         3.88537055e-71,   5.56699533e-71,   7.97324032e-71,\n",
       "         1.14149611e-70,   1.63357698e-70,   2.33684743e-70,\n",
       "         3.34154025e-70,   4.77626727e-70,   6.82426888e-70,\n",
       "         9.74651205e-70,   1.39145096e-69,   1.98569329e-69,\n",
       "         2.83257892e-69,   4.03903349e-69,   5.75702976e-69,\n",
       "         8.20247811e-69,   1.16820019e-68,   1.66308730e-68,\n",
       "         2.36667383e-68,   3.36656772e-68,   4.78698303e-68,\n",
       "         6.80396396e-68,   9.66691071e-68,   1.37290028e-67,\n",
       "         1.94901808e-67,   2.76578442e-67,   3.92325349e-67,\n",
       "         5.56288393e-67,   7.88459177e-67,   1.11707932e-66,\n",
       "         1.58202884e-66,   2.23959952e-66,   3.16921659e-66,\n",
       "         4.48290010e-66,   6.33857723e-66,   8.95880527e-66,\n",
       "         1.26570936e-65,   1.78748940e-65,   2.52335608e-65,\n",
       "         3.56073122e-65,   5.02256341e-65,   7.08169553e-65,\n",
       "         9.98101385e-65,   1.40616943e-64,   1.98027830e-64,\n",
       "         2.78766378e-64,   3.92265524e-64,   5.51753979e-64,\n",
       "         7.75776095e-64,   1.09031728e-63,   1.53177503e-63,\n",
       "         2.15111021e-63,   3.01964522e-63,   4.23715905e-63,\n",
       "         5.94318428e-63,   8.33276649e-63,   1.16784394e-62,\n",
       "         1.63608551e-62,   2.29114603e-62,   3.20719323e-62,\n",
       "         4.48769227e-62,   6.27692003e-62,   8.77598168e-62,\n",
       "         1.22650806e-61,   1.71344705e-61,   2.39274577e-61,\n",
       "         3.34001187e-61,   4.66041990e-61,   6.50021426e-61,\n",
       "         9.06266405e-61,   1.26301839e-60,   1.75949912e-60,\n",
       "         2.45015760e-60,   3.41055117e-60,   4.74548609e-60,\n",
       "         6.60028100e-60,   9.17634495e-60,   1.27527141e-59,\n",
       "         1.77158134e-59,   2.46005694e-59,   3.41471771e-59,\n",
       "         4.73794526e-59,   6.57129336e-59,   9.11039607e-59,\n",
       "         1.26255192e-58,   1.74898796e-58,   2.42186526e-58,\n",
       "         3.35226792e-58,   4.63823821e-58,   6.41494539e-58,\n",
       "         8.86866933e-58,   1.22560224e-57,   1.69303609e-57,\n",
       "         2.33780601e-57,   3.22683168e-57,   4.45214948e-57,\n",
       "         6.14028809e-57,   8.46512438e-57,   1.16655045e-56,\n",
       "         1.60693863e-56,   2.21269036e-56,   3.04556295e-56,\n",
       "         4.19025161e-56,   5.76286186e-56,   7.92249369e-56,\n",
       "         1.08870741e-55,   1.49549871e-55,   2.05346115e-55,\n",
       "         2.81846421e-55,   3.86691071e-55,   5.30324081e-55,\n",
       "         7.27016282e-55,   9.96259583e-55,   1.36466632e-54,\n",
       "         1.86855557e-54,   2.55747353e-54,   3.49898325e-54,\n",
       "         4.78517873e-54,   6.54154073e-54,   8.93897085e-54,\n",
       "         1.22101381e-53,   1.66716744e-53,   2.27542983e-53,\n",
       "         3.10436843e-53,   4.23358863e-53,   5.77124670e-53,\n",
       "         7.86423001e-53,   1.07119457e-52,   1.45849888e-52,\n",
       "         1.98504073e-52,   2.70058799e-52,   3.67259320e-52,\n",
       "         4.99244059e-52,   6.78388646e-52,   9.21445855e-52,\n",
       "         1.25108454e-51,   1.69796634e-51,   2.30354702e-51,\n",
       "         3.12385360e-51,   4.23457520e-51,   5.73792161e-51,\n",
       "         7.77185980e-51,   1.05225474e-50,   1.42410630e-50,\n",
       "         1.92659092e-50,   2.60532674e-50,   3.52176579e-50,\n",
       "         4.75865619e-50,   6.42737696e-50,   8.67778329e-50,\n",
       "         1.17114162e-49,   1.57992188e-49,   2.13052874e-49,\n",
       "         2.87186994e-49,   3.86961468e-49,   5.21190226e-49,\n",
       "         7.01698241e-49,   9.44343725e-49,   1.27038511e-48,\n",
       "         1.70830840e-48,   2.29626889e-48,   3.08535253e-48,\n",
       "         4.14393019e-48,   5.56346875e-48,   7.46628322e-48,\n",
       "         1.00158740e-47,   1.34307056e-47,   1.80025653e-47,\n",
       "         2.41210130e-47,   3.23059321e-47,   4.32508448e-47,\n",
       "         5.78805300e-47,   7.74276340e-47,   1.03534493e-46,\n",
       "         1.38388411e-46,   1.84901301e-46,   2.46948162e-46,\n",
       "         3.29683501e-46,   4.39961035e-46,   5.86890123e-46,\n",
       "         7.82573202e-46,   1.04308267e-45,   1.38975444e-45,\n",
       "         1.85090018e-45,   2.46407266e-45,   3.27906184e-45,\n",
       "         4.36185566e-45,   5.79987399e-45,   7.70888224e-45,\n",
       "         1.02421198e-44,   1.36023478e-44,   1.80577436e-44,\n",
       "         2.39628615e-44,   3.17862618e-44,   4.21469179e-44,\n",
       "         5.58621661e-44,   7.40108355e-44,   9.80163277e-44,\n",
       "         1.29755906e-43,   1.71704400e-43,   2.27123096e-43,\n",
       "         3.00307903e-43,   3.96915271e-43,   5.24390047e-43,\n",
       "         6.92526916e-43,   9.14206827e-43,   1.20636255e-42,\n",
       "         1.59124415e-42,   2.09807679e-42,   2.76523167e-42,\n",
       "         3.64306778e-42,   4.79765003e-42,   6.31561234e-42,\n",
       "         8.31051521e-42,   1.09311541e-41,   1.43724125e-41,\n",
       "         1.88894326e-41,   2.48161119e-41,   3.25892338e-41,\n",
       "         4.27799375e-41,   5.61347415e-41,   7.36289985e-41,\n",
       "         9.65365213e-41,   1.26520233e-40,   1.65750140e-40,\n",
       "         2.17056808e-40,   2.84130924e-40,   3.71782704e-40,\n",
       "         4.86278922e-40,   6.35780631e-40,   8.30911418e-40,\n",
       "         1.08549480e-39,   1.41751071e-39,   1.85033575e-39,\n",
       "         2.41435047e-39,   3.14902185e-39,   4.10559985e-39,\n",
       "         5.35060818e-39,   6.97036090e-39,   9.07680417e-39,\n",
       "         1.18150687e-38,   1.53732299e-38,   1.99949158e-38,\n",
       "         2.59955866e-38,   3.37835473e-38,   4.38870572e-38,\n",
       "         5.69892916e-38,   7.39734103e-38,   9.59806328e-38,\n",
       "         1.24485040e-37,   1.61389881e-37,   2.09151520e-37,\n",
       "         2.70938882e-37,   3.50838486e-37,   4.54117991e-37,\n",
       "         5.87564803e-37,   7.59920958e-37,   9.82441405e-37,\n",
       "         1.26961042e-36,   1.64006056e-36,   2.11775090e-36,\n",
       "         2.73347717e-36,   3.52680634e-36,   4.54855404e-36,\n",
       "         5.86395584e-36,   7.55672484e-36,   9.73424137e-36,\n",
       "         1.25341878e-35,   1.61330274e-35,   2.07568348e-35,\n",
       "         2.66951259e-35,   3.43185083e-35,   4.41012009e-35,\n",
       "         5.66497523e-35,   7.27396488e-35,   9.33619619e-35,\n",
       "         1.19782762e-34,   1.53618763e-34,   1.96933586e-34,\n",
       "         2.52360222e-34,   3.23256746e-34,   4.13904242e-34,\n",
       "         5.29758269e-34,   6.77768211e-34,   8.66782696e-34,\n",
       "         1.10806402e-33,   1.41594069e-33,   1.80863468e-33,\n",
       "         2.30930998e-33,   2.94740079e-33,   3.76029350e-33,\n",
       "         4.79545564e-33,   6.11312951e-33,   7.78973889e-33,\n",
       "         9.92219573e-33,   1.26333423e-32,   1.60788256e-32,\n",
       "         2.04557765e-32,   2.60137642e-32,   3.30686157e-32,\n",
       "         4.20198421e-32,   5.33726053e-32,   6.77653949e-32,\n",
       "         8.60048871e-32,   1.09109828e-31,   1.38366259e-31,\n",
       "         1.75396980e-31,   2.22248894e-31,   2.81502782e-31,\n",
       "         3.56411214e-31,   4.51071734e-31,   5.70644258e-31,\n",
       "         7.21623845e-31,   9.12182812e-31,   1.15259964e-30,\n",
       "         1.45579646e-30,   1.83801234e-30,   2.31964632e-30,\n",
       "         2.92631254e-30,   3.69016027e-30,   4.65152473e-30,\n",
       "         5.86099061e-30,   7.38197044e-30,   9.29392500e-30,\n",
       "         1.16963838e-29,   1.47139624e-29,   1.85026213e-29,\n",
       "         2.32574696e-29,   2.92224921e-29,   3.67026669e-29,\n",
       "         4.60790568e-29,   5.78275941e-29,   7.25424556e-29,\n",
       "         9.09651346e-29,   1.14020585e-28,   1.42862140e-28,\n",
       "         1.78927305e-28,   2.24007044e-28,   2.80331767e-28,\n",
       "         3.50678016e-28,   4.38500761e-28,   5.48097407e-28,\n",
       "         6.84811001e-28,   8.55281926e-28,   1.06775951e-27,\n",
       "         1.33248762e-27,   1.66218173e-27,   2.07261870e-27,\n",
       "         2.58336580e-27,   3.21868135e-27,   4.00862699e-27,\n",
       "         4.99044065e-27,   6.21023062e-27,   7.72506509e-27,\n",
       "         9.60554811e-27,   1.19389942e-26,   1.48333388e-26,\n",
       "         1.84219532e-26,   2.28695711e-26,   2.83795791e-26,\n",
       "         3.52029830e-26,   4.36494290e-26,   5.41007459e-26,\n",
       "         6.70275776e-26,   8.30098026e-26,   1.02761592e-25,\n",
       "         1.27162146e-25,   1.57293386e-25,   1.94486141e-25,\n",
       "         2.40376741e-25,   2.96976313e-25,   3.66755608e-25,\n",
       "         4.52748794e-25,   5.58680388e-25,   6.89120445e-25,\n",
       "         8.49674196e-25,   1.04721369e-24,   1.29016060e-24,\n",
       "         1.58883143e-24,   1.95585862e-24,   2.40670400e-24,\n",
       "         2.96028473e-24,   3.63973593e-24,   4.47333942e-24,\n",
       "         5.49565440e-24,   6.74889328e-24,   8.28459520e-24,\n",
       "         1.01656607e-23,   1.24688245e-23,   1.52876595e-23,\n",
       "         1.87362241e-23,   2.29534902e-23,   2.81087139e-23,\n",
       "         3.44079504e-23,   4.21019506e-23,   5.14957297e-23,\n",
       "         6.29601568e-23,   7.69459863e-23])"
      ]
     },
     "execution_count": 247,
     "metadata": {},
     "output_type": "execute_result"
    }
   ],
   "source": [
    "stats.norm(0, 1).pdf(xpts)"
   ]
  },
  {
   "cell_type": "code",
   "execution_count": null,
   "metadata": {
    "collapsed": true
   },
   "outputs": [],
   "source": []
  }
 ],
 "metadata": {
  "kernelspec": {
   "display_name": "Python 3",
   "language": "python",
   "name": "python3"
  },
  "language_info": {
   "codemirror_mode": {
    "name": "ipython",
    "version": 3
   },
   "file_extension": ".py",
   "mimetype": "text/x-python",
   "name": "python",
   "nbconvert_exporter": "python",
   "pygments_lexer": "ipython3",
   "version": "3.6.6"
  }
 },
 "nbformat": 4,
 "nbformat_minor": 2
}
