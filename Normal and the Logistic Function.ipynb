{
 "cells": [
  {
   "cell_type": "markdown",
   "metadata": {},
   "source": [
    "## Normal distributions and and logistic curves\n",
    "\n",
    "A student was asking about why we use the logistic function (rather than some other sigmoid) in modeling, and we wondered whether a couple normal distributions in one dimension would have the appropriate pdf ratio.\n",
    "\n",
    "\n",
    "So this notebook is exploring whether a generative model with normal distributions matches a discriminative logistic model.\n",
    "\n",
    "First, the math."
   ]
  },
  {
   "cell_type": "markdown",
   "metadata": {},
   "source": [
    "Assume $\\sigma = 1$ and we have two standard distributions centered at $\\mu$ and $-\\mu$. The ratio between the pdfs is\n",
    "$$\\begin{align}\n",
    "\\text{ratio} &= \\frac{\\frac{1}{\\sqrt{2\\pi}}e^{-\\frac{(x-\\mu)^2}{2}}}\n",
    "                     {\\frac{1}{\\sqrt{2\\pi}}e^{-\\frac{(x-\\mu)^2}{2}} + \n",
    "                      \\frac{1}{\\sqrt{2\\pi}}e^{-\\frac{(x+\\mu)^2}{2}}} \\\\\n",
    "             &= \\frac{e^{-\\frac{(x-\\mu)^2}{2}}}\n",
    "                     {e^{-\\frac{(x-\\mu)^2}{2}} + \n",
    "                      e^{-\\frac{(x+\\mu)^2}{2}}} \\\\\n",
    "\\\\                      \n",
    "\\\\                      \n",
    " \\\\                     \n",
    " &= \\frac{e^{-\\frac{(x-\\mu)^2}{2}}}{e^{-\\frac{(x+\\mu)^2}{2}}} \\\\\n",
    " &= \\sqrt{\\frac{e^{(x+\\mu)^2}}  {e^{(x-\\mu)^2}}} \\\\\n",
    " &= \\sqrt{\\frac{e^{x^2 + 2x\\mu + \\mu^2}}  {e^{x^2 - 2x\\mu + \\mu^2}}} \\\\\n",
    " &= \\sqrt{\\frac{e^{2x\\mu}}  {e^{-2x\\mu}}} \\\\\n",
    " &= \\frac{e^{x\\mu}}  {e^{-x\\mu}} \\\\\n",
    "\\\\\n",
    "\\end{align}\n",
    "$$"
   ]
  },
  {
   "cell_type": "code",
   "execution_count": 1,
   "metadata": {
    "collapsed": true
   },
   "outputs": [],
   "source": [
    "import numpy as np\n",
    "import matplotlib.pyplot as plt\n",
    "%matplotlib inline\n",
    "from scipy import stats"
   ]
  },
  {
   "cell_type": "code",
   "execution_count": 2,
   "metadata": {
    "collapsed": true
   },
   "outputs": [],
   "source": [
    "def logistic(x):\n",
    "    return 1/(1+np.exp(-x))"
   ]
  },
  {
   "cell_type": "code",
   "execution_count": 10,
   "metadata": {},
   "outputs": [
    {
     "data": {
      "text/plain": [
       "[<matplotlib.lines.Line2D at 0x12462a710>]"
      ]
     },
     "execution_count": 10,
     "metadata": {},
     "output_type": "execute_result"
    },
    {
     "data": {
      "image/png": "[encoded data removed]",
      "text/plain": [
       "<Figure size 864x288 with 1 Axes>"
      ]
     },
     "metadata": {},
     "output_type": "display_data"
    }
   ],
   "source": [
    "sep = 2\n",
    "xpts = np.linspace(-sep, sep, 100)\n",
    "dist1 = stats.norm(-sep/2,1)\n",
    "dist2 = stats.norm(sep/2,1)\n",
    "ratio = dist2.pdf(xpts) / (dist1.pdf(xpts) + dist2.pdf(xpts))\n",
    "\n",
    "fig, ax = plt.subplots(figsize=(12,4))\n",
    "ax.plot(xpts, ratio, 'b-')\n",
    "\n",
    "logit = logistic(xpts * sep)\n",
    "ax.plot(xpts, logit, 'r.')\n",
    "\n",
    "#ax.set_xlim(-2, 2)"
   ]
  },
  {
   "cell_type": "markdown",
   "metadata": {
    "collapsed": true
   },
   "source": [
    "Those are exactly on top of each other, which sort of confirms the idea."
   ]
  },
  {
   "cell_type": "markdown",
   "metadata": {
    "collapsed": true
   },
   "source": [
    "Note that it might not be true in the general case (in particular, it won't if they have different variances)."
   ]
  },
  {
   "cell_type": "code",
   "execution_count": null,
   "metadata": {
    "collapsed": true
   },
   "outputs": [],
   "source": []
  },
  {
   "cell_type": "code",
   "execution_count": null,
   "metadata": {
    "collapsed": true
   },
   "outputs": [],
   "source": []
  }
 ],
 "metadata": {
  "kernelspec": {
   "display_name": "Python 3",
   "language": "python",
   "name": "python3"
  },
  "language_info": {
   "codemirror_mode": {
    "name": "ipython",
    "version": 3
   },
   "file_extension": ".py",
   "mimetype": "text/x-python",
   "name": "python",
   "nbconvert_exporter": "python",
   "pygments_lexer": "ipython3",
   "version": "3.6.6"
  }
 },
 "nbformat": 4,
 "nbformat_minor": 2
}
